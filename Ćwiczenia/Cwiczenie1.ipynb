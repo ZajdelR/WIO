{
 "cells": [
  {
   "cell_type": "markdown",
   "metadata": {
    "slideshow": {
     "slide_type": "slide"
    }
   },
   "source": [
    "# Wprowadzenie do inżynierii oprogramowania\n",
    "\n",
    "## Ćwiczenia 1\n",
    "\n",
    "---\n",
    "\n",
    "* wprowadzenie\n",
    "* podstawowe typy danych i operatory\n",
    "* wyrażenia warunkowe i pętle\n",
    "* funkcje i moduły\n",
    "* struktury danych\n",
    "* Łańcuch znaków\n",
    "* sekwencyjne typy danych\n",
    "* wyrażenia logiczne"
   ]
  },
  {
   "cell_type": "markdown",
   "metadata": {},
   "source": [
    "## Podstawowe typy danych \n",
    "\n",
    "---\n",
    "\n",
    "* typ całkowity (*int*)\n",
    "* typ zmiennoprzecinkowy (*float*)\n",
    "* typ zespolony (*complex*)\n",
    "* typ tekstowy (*str*)\n",
    "* zmienne są typowane dynamicznie"
   ]
  },
  {
   "cell_type": "code",
   "execution_count": 4,
   "metadata": {},
   "outputs": [
    {
     "name": "stdout",
     "output_type": "stream",
     "text": [
      "<type 'int'> <type 'float'> <type 'complex'>\n",
      "<type 'int'> <type 'float'> <type 'complex'>\n"
     ]
    }
   ],
   "source": [
    "x = 1   # [zmienna] [operator przypisania] [wartość]\n",
    "y = 1.0\n",
    "z = 1j\n",
    "\n",
    "# drukuj typy zmiennych x, y i z\n",
    "print type(x), type(y), type(z)\n",
    "# drukuj typy zmiennych b\n",
    "print \"{} {} {}\".format(type(x), type(y), type(z))"
   ]
  },
  {
   "cell_type": "code",
   "execution_count": 5,
   "metadata": {},
   "outputs": [
    {
     "name": "stdout",
     "output_type": "stream",
     "text": [
      "<type 'float'>\n"
     ]
    }
   ],
   "source": [
    "x = y # przypisz zmiennej x wartość zmiennej y\n",
    "\n",
    "print type(x)"
   ]
  },
  {
   "cell_type": "markdown",
   "metadata": {
    "nbpresent": {
     "id": "8d5f99ab-c8a2-4a9d-a42c-eb660dda2b10"
    },
    "slideshow": {
     "slide_type": "subslide"
    }
   },
   "source": [
    "## Operacje na liczbach\n",
    "\n",
    "---"
   ]
  },
  {
   "cell_type": "code",
   "execution_count": 6,
   "metadata": {
    "nbpresent": {
     "id": "65a6ba86-2ed8-4426-a3ee-d340e8f63896"
    },
    "slideshow": {
     "slide_type": "-"
    }
   },
   "outputs": [
    {
     "data": {
      "text/plain": [
       "4"
      ]
     },
     "execution_count": 6,
     "metadata": {},
     "output_type": "execute_result"
    }
   ],
   "source": [
    "2 + 2 # suma dwóch liczb całkowitych -> liczba całkowita"
   ]
  },
  {
   "cell_type": "code",
   "execution_count": 7,
   "metadata": {
    "nbpresent": {
     "id": "8384c78d-f549-4375-a9e0-e9211abd6481"
    },
    "slideshow": {
     "slide_type": "-"
    }
   },
   "outputs": [
    {
     "data": {
      "text/plain": [
       "4.0"
      ]
     },
     "execution_count": 7,
     "metadata": {},
     "output_type": "execute_result"
    }
   ],
   "source": [
    "2 + 2.0 # wynikiem tej sumy jest liczba zmiennoprzecinkowa"
   ]
  },
  {
   "cell_type": "code",
   "execution_count": 8,
   "metadata": {
    "nbpresent": {
     "id": "f2913760-c7f5-458d-a1c7-64eb02f5a32e"
    },
    "slideshow": {
     "slide_type": "-"
    }
   },
   "outputs": [
    {
     "data": {
      "text/plain": [
       "3"
      ]
     },
     "execution_count": 8,
     "metadata": {},
     "output_type": "execute_result"
    }
   ],
   "source": [
    "5 - 2"
   ]
  },
  {
   "cell_type": "code",
   "execution_count": 9,
   "metadata": {
    "nbpresent": {
     "id": "be71fbaf-645d-4b7b-8cb2-cb78667dd9a1"
    },
    "slideshow": {
     "slide_type": "-"
    }
   },
   "outputs": [
    {
     "data": {
      "text/plain": [
       "-10"
      ]
     },
     "execution_count": 9,
     "metadata": {},
     "output_type": "execute_result"
    }
   ],
   "source": [
    "-5 * 2 "
   ]
  },
  {
   "cell_type": "code",
   "execution_count": 10,
   "metadata": {
    "nbpresent": {
     "id": "b84c6d91-d154-4d83-8329-abab3ff87a81"
    },
    "slideshow": {
     "slide_type": "-"
    }
   },
   "outputs": [
    {
     "data": {
      "text/plain": [
       "2"
      ]
     },
     "execution_count": 10,
     "metadata": {},
     "output_type": "execute_result"
    }
   ],
   "source": [
    "5 / 2 "
   ]
  },
  {
   "cell_type": "code",
   "execution_count": 11,
   "metadata": {
    "nbpresent": {
     "id": "00ea453f-4913-4a90-8661-a68b5a4574b2"
    },
    "slideshow": {
     "slide_type": "-"
    }
   },
   "outputs": [
    {
     "data": {
      "text/plain": [
       "3"
      ]
     },
     "execution_count": 11,
     "metadata": {},
     "output_type": "execute_result"
    }
   ],
   "source": [
    "6 / 2 "
   ]
  },
  {
   "cell_type": "code",
   "execution_count": 12,
   "metadata": {
    "nbpresent": {
     "id": "d2cf357c-bbb0-4e8b-b0f6-e203dfa9dcc0"
    },
    "slideshow": {
     "slide_type": "-"
    }
   },
   "outputs": [
    {
     "name": "stdout",
     "output_type": "stream",
     "text": [
      "3.0\n",
      "2.5\n",
      "2\n"
     ]
    }
   ],
   "source": [
    "from __future__ import division\n",
    "print 6/2\n",
    "print 5/2\n",
    "print 5//2"
   ]
  },
  {
   "cell_type": "markdown",
   "metadata": {
    "slideshow": {
     "slide_type": "subslide"
    }
   },
   "source": [
    "## Operacje na liczbach\n",
    "\n",
    "---"
   ]
  },
  {
   "cell_type": "code",
   "execution_count": 13,
   "metadata": {
    "nbpresent": {
     "id": "80756bc1-7a0e-4479-9125-832c3a8f1a19"
    },
    "slideshow": {
     "slide_type": "-"
    }
   },
   "outputs": [
    {
     "data": {
      "text/plain": [
       "1"
      ]
     },
     "execution_count": 13,
     "metadata": {},
     "output_type": "execute_result"
    }
   ],
   "source": [
    "5 % 2 # reszta z dzielenia (operator modulo)"
   ]
  },
  {
   "cell_type": "code",
   "execution_count": 14,
   "metadata": {
    "nbpresent": {
     "id": "e5988748-0449-4520-b98c-43765e71ac61"
    },
    "slideshow": {
     "slide_type": "-"
    }
   },
   "outputs": [
    {
     "data": {
      "text/plain": [
       "2"
      ]
     },
     "execution_count": 14,
     "metadata": {},
     "output_type": "execute_result"
    }
   ],
   "source": [
    "int(2.5) # jawne rzutowanie na int"
   ]
  },
  {
   "cell_type": "code",
   "execution_count": 15,
   "metadata": {
    "nbpresent": {
     "id": "c1f10933-6724-42d1-bd5d-eb7ab1b549ea"
    },
    "slideshow": {
     "slide_type": "-"
    }
   },
   "outputs": [
    {
     "data": {
      "text/plain": [
       "1.0"
      ]
     },
     "execution_count": 15,
     "metadata": {},
     "output_type": "execute_result"
    }
   ],
   "source": [
    "float(1) # jawne rzutowanie na float"
   ]
  },
  {
   "cell_type": "code",
   "execution_count": 16,
   "metadata": {
    "nbpresent": {
     "id": "053891c8-3473-4ac9-b14d-2cedd09e595c"
    },
    "slideshow": {
     "slide_type": "-"
    }
   },
   "outputs": [
    {
     "data": {
      "text/plain": [
       "(1+1j)"
      ]
     },
     "execution_count": 16,
     "metadata": {},
     "output_type": "execute_result"
    }
   ],
   "source": [
    "complex(1,1) # liczby zespolone"
   ]
  },
  {
   "cell_type": "code",
   "execution_count": 17,
   "metadata": {
    "nbpresent": {
     "id": "9425fde2-889e-4b7d-baa7-a2cf307da56c"
    },
    "slideshow": {
     "slide_type": "-"
    }
   },
   "outputs": [
    {
     "data": {
      "text/plain": [
       "(1+1j)"
      ]
     },
     "execution_count": 17,
     "metadata": {},
     "output_type": "execute_result"
    }
   ],
   "source": [
    "1+1j # można wprowadzać na dwa sposoby"
   ]
  },
  {
   "cell_type": "code",
   "execution_count": 18,
   "metadata": {
    "nbpresent": {
     "id": "8f72ac2b-9056-4564-a98d-208561c46ec9"
    },
    "slideshow": {
     "slide_type": "-"
    }
   },
   "outputs": [
    {
     "data": {
      "text/plain": [
       "1.0"
      ]
     },
     "execution_count": 18,
     "metadata": {},
     "output_type": "execute_result"
    }
   ],
   "source": [
    "(1+2j).real # część rzeczywista"
   ]
  },
  {
   "cell_type": "code",
   "execution_count": 19,
   "metadata": {
    "nbpresent": {
     "id": "4f5d7e2e-f33c-4afc-bc9d-91324a5c211e"
    },
    "slideshow": {
     "slide_type": "-"
    }
   },
   "outputs": [
    {
     "data": {
      "text/plain": [
       "2.0"
      ]
     },
     "execution_count": 19,
     "metadata": {},
     "output_type": "execute_result"
    }
   ],
   "source": [
    "(1+2j).imag # część urojona"
   ]
  },
  {
   "cell_type": "markdown",
   "metadata": {
    "slideshow": {
     "slide_type": "subslide"
    }
   },
   "source": [
    "## Operacje na liczbach\n",
    "\n",
    "---"
   ]
  },
  {
   "cell_type": "code",
   "execution_count": 20,
   "metadata": {
    "nbpresent": {
     "id": "2cc5396d-c854-4706-8ab1-bdd224118add"
    },
    "slideshow": {
     "slide_type": "-"
    }
   },
   "outputs": [
    {
     "data": {
      "text/plain": [
       "10"
      ]
     },
     "execution_count": 20,
     "metadata": {},
     "output_type": "execute_result"
    }
   ],
   "source": [
    "abs(-10) # moduł"
   ]
  },
  {
   "cell_type": "code",
   "execution_count": 21,
   "metadata": {
    "nbpresent": {
     "id": "ca2dd409-2de2-4d06-a4b5-c6e35b76c3ec"
    },
    "slideshow": {
     "slide_type": "-"
    }
   },
   "outputs": [
    {
     "data": {
      "text/plain": [
       "2.5"
      ]
     },
     "execution_count": 21,
     "metadata": {},
     "output_type": "execute_result"
    }
   ],
   "source": [
    "abs(-2.5)"
   ]
  },
  {
   "cell_type": "code",
   "execution_count": 22,
   "metadata": {
    "nbpresent": {
     "id": "f719ef75-168e-4c8b-a082-8c8b3a572266"
    },
    "slideshow": {
     "slide_type": "-"
    }
   },
   "outputs": [
    {
     "data": {
      "text/plain": [
       "1.4142135623730951"
      ]
     },
     "execution_count": 22,
     "metadata": {},
     "output_type": "execute_result"
    }
   ],
   "source": [
    "abs(1+1j) # moduł liczby zespolonej"
   ]
  },
  {
   "cell_type": "markdown",
   "metadata": {
    "nbpresent": {
     "id": "d1b50ea1-9fd0-4878-96ca-a961b1e9a9e8"
    },
    "slideshow": {
     "slide_type": "-"
    }
   },
   "source": [
    "```py\n",
    "(1+1j).conjugate() # sprzężenie liczby zespolonej\n",
    "\n",
    "---------------------------------------------------------------------------\n",
    "TypeError                                 Traceback (most recent call last)\n",
    "<ipython-input-24-dd7895e870c6> in <module>()\n",
    "----> 1 int(1+1j) # rzutowania bez sensu zwrócą błąd\n",
    "\n",
    "TypeError: can't convert complex to int```"
   ]
  },
  {
   "cell_type": "markdown",
   "metadata": {
    "slideshow": {
     "slide_type": "subslide"
    }
   },
   "source": [
    "## Operacje na liczbach\n",
    "\n",
    "---"
   ]
  },
  {
   "cell_type": "code",
   "execution_count": 23,
   "metadata": {
    "nbpresent": {
     "id": "be052e12-679f-4f2d-8ea7-8a006e14fd56"
    },
    "slideshow": {
     "slide_type": "-"
    }
   },
   "outputs": [
    {
     "data": {
      "text/plain": [
       "(3, 1)"
      ]
     },
     "execution_count": 23,
     "metadata": {},
     "output_type": "execute_result"
    }
   ],
   "source": [
    "divmod(10, 3) # para (10 // 3 i 10 % 3)"
   ]
  },
  {
   "cell_type": "code",
   "execution_count": 24,
   "metadata": {
    "nbpresent": {
     "id": "8db31111-50de-4c13-95c4-e7a9c9557a56"
    },
    "slideshow": {
     "slide_type": "-"
    }
   },
   "outputs": [
    {
     "data": {
      "text/plain": [
       "8"
      ]
     },
     "execution_count": 24,
     "metadata": {},
     "output_type": "execute_result"
    }
   ],
   "source": [
    "pow(2, 3) # pow(a, b) = a^b"
   ]
  },
  {
   "cell_type": "code",
   "execution_count": 25,
   "metadata": {
    "nbpresent": {
     "id": "e074efaf-afc5-4a62-bb55-77ffa854ec88"
    },
    "slideshow": {
     "slide_type": "-"
    }
   },
   "outputs": [
    {
     "data": {
      "text/plain": [
       "8.0"
      ]
     },
     "execution_count": 25,
     "metadata": {},
     "output_type": "execute_result"
    }
   ],
   "source": [
    "pow(2, 3.0) # zwróć uwagę na typy"
   ]
  },
  {
   "cell_type": "code",
   "execution_count": 26,
   "metadata": {
    "nbpresent": {
     "id": "3c784469-a6d6-48f8-bfe9-8e7184f6b534"
    },
    "slideshow": {
     "slide_type": "-"
    }
   },
   "outputs": [
    {
     "data": {
      "text/plain": [
       "8"
      ]
     },
     "execution_count": 26,
     "metadata": {},
     "output_type": "execute_result"
    }
   ],
   "source": [
    "2 ** 3 # inna wersja a^b"
   ]
  },
  {
   "cell_type": "code",
   "execution_count": 27,
   "metadata": {
    "nbpresent": {
     "id": "ac8bad1e-f19f-4bb2-85ac-cb05a3449339"
    },
    "slideshow": {
     "slide_type": "-"
    }
   },
   "outputs": [
    {
     "data": {
      "text/plain": [
       "(-1+0j)"
      ]
     },
     "execution_count": 27,
     "metadata": {},
     "output_type": "execute_result"
    }
   ],
   "source": [
    "1j ** 2 # dla zespolonych też działa"
   ]
  },
  {
   "cell_type": "markdown",
   "metadata": {
    "nbpresent": {
     "id": "5a3db116-371a-42d6-ae5f-c640827e9792"
    },
    "slideshow": {
     "slide_type": "subslide"
    }
   },
   "source": [
    "## Moduł math\n",
    "\n",
    "---"
   ]
  },
  {
   "cell_type": "code",
   "execution_count": 28,
   "metadata": {
    "nbpresent": {
     "id": "fd9af1ea-8ca6-4c87-ae2c-96fb85713d29"
    },
    "slideshow": {
     "slide_type": "-"
    }
   },
   "outputs": [
    {
     "data": {
      "text/plain": [
       "['__doc__',\n",
       " '__name__',\n",
       " '__package__',\n",
       " 'acos',\n",
       " 'acosh',\n",
       " 'asin',\n",
       " 'asinh',\n",
       " 'atan',\n",
       " 'atan2',\n",
       " 'atanh',\n",
       " 'ceil',\n",
       " 'copysign',\n",
       " 'cos',\n",
       " 'cosh',\n",
       " 'degrees',\n",
       " 'e',\n",
       " 'erf',\n",
       " 'erfc',\n",
       " 'exp',\n",
       " 'expm1',\n",
       " 'fabs',\n",
       " 'factorial',\n",
       " 'floor',\n",
       " 'fmod',\n",
       " 'frexp',\n",
       " 'fsum',\n",
       " 'gamma',\n",
       " 'hypot',\n",
       " 'isinf',\n",
       " 'isnan',\n",
       " 'ldexp',\n",
       " 'lgamma',\n",
       " 'log',\n",
       " 'log10',\n",
       " 'log1p',\n",
       " 'modf',\n",
       " 'pi',\n",
       " 'pow',\n",
       " 'radians',\n",
       " 'sin',\n",
       " 'sinh',\n",
       " 'sqrt',\n",
       " 'tan',\n",
       " 'tanh',\n",
       " 'trunc']"
      ]
     },
     "execution_count": 28,
     "metadata": {},
     "output_type": "execute_result"
    }
   ],
   "source": [
    "import math # import [moduł]\n",
    "\n",
    "dir (math) # lista dostępnych funkcji"
   ]
  },
  {
   "cell_type": "markdown",
   "metadata": {
    "slideshow": {
     "slide_type": "subslide"
    }
   },
   "source": [
    "## Moduł math\n",
    "\n",
    "---"
   ]
  },
  {
   "cell_type": "code",
   "execution_count": 29,
   "metadata": {
    "nbpresent": {
     "id": "393c29ee-e3a7-4dec-9b7a-1c1862e3216f"
    },
    "slideshow": {
     "slide_type": "-"
    }
   },
   "outputs": [
    {
     "name": "stdout",
     "output_type": "stream",
     "text": [
      "Help on built-in function floor in module math:\n",
      "\n",
      "floor(...)\n",
      "    floor(x)\n",
      "    \n",
      "    Return the floor of x as a float.\n",
      "    This is the largest integral value <= x.\n",
      "\n"
     ]
    }
   ],
   "source": [
    "help(math.floor) # dokumentacja funkcji floor z math"
   ]
  },
  {
   "cell_type": "code",
   "execution_count": 30,
   "metadata": {
    "nbpresent": {
     "id": "51464f15-ec1e-4f9b-b16b-39a0e63ac18e"
    },
    "slideshow": {
     "slide_type": "-"
    }
   },
   "outputs": [
    {
     "name": "stdout",
     "output_type": "stream",
     "text": [
      "Help on built-in function ceil in module math:\n",
      "\n",
      "ceil(...)\n",
      "    ceil(x)\n",
      "    \n",
      "    Return the ceiling of x as a float.\n",
      "    This is the smallest integral value >= x.\n",
      "\n"
     ]
    }
   ],
   "source": [
    "help(math.ceil) # zwróć uwagę na: moduł.funkcja"
   ]
  },
  {
   "cell_type": "markdown",
   "metadata": {
    "slideshow": {
     "slide_type": "subslide"
    }
   },
   "source": [
    "## Moduł math\n",
    "\n",
    "---"
   ]
  },
  {
   "cell_type": "code",
   "execution_count": 31,
   "metadata": {
    "nbpresent": {
     "id": "b64bde8a-0766-459a-adb3-496998937270"
    },
    "slideshow": {
     "slide_type": "-"
    }
   },
   "outputs": [
    {
     "data": {
      "text/plain": [
       "2"
      ]
     },
     "execution_count": 31,
     "metadata": {},
     "output_type": "execute_result"
    }
   ],
   "source": [
    "int(2.8) # rzutowanie float na int \"ucina wszystko po kropce\""
   ]
  },
  {
   "cell_type": "code",
   "execution_count": 32,
   "metadata": {
    "nbpresent": {
     "id": "cf431f59-5051-4338-ba4d-36d1567edea3"
    },
    "slideshow": {
     "slide_type": "-"
    }
   },
   "outputs": [
    {
     "data": {
      "text/plain": [
       "2.0"
      ]
     },
     "execution_count": 32,
     "metadata": {},
     "output_type": "execute_result"
    }
   ],
   "source": [
    "math.floor(2.8) # tak jak funkcja math.floor"
   ]
  },
  {
   "cell_type": "code",
   "execution_count": 33,
   "metadata": {
    "nbpresent": {
     "id": "014732d4-e815-4ea3-ab8d-e4a3d975466c"
    },
    "slideshow": {
     "slide_type": "-"
    }
   },
   "outputs": [
    {
     "data": {
      "text/plain": [
       "3.0"
      ]
     },
     "execution_count": 33,
     "metadata": {},
     "output_type": "execute_result"
    }
   ],
   "source": [
    "math.ceil(2.8) # funkcja math.ceil zaokrągla w górę"
   ]
  },
  {
   "cell_type": "code",
   "execution_count": 34,
   "metadata": {
    "nbpresent": {
     "id": "c603b8c8-9666-4566-8099-b3ec10409940"
    },
    "slideshow": {
     "slide_type": "-"
    }
   },
   "outputs": [
    {
     "data": {
      "text/plain": [
       "2.0"
      ]
     },
     "execution_count": 34,
     "metadata": {},
     "output_type": "execute_result"
    }
   ],
   "source": [
    "math.ceil(2.0000000000000001) # zawsze w górę, chyba że po 16 miejscu po przeciunku będzie się różniło"
   ]
  },
  {
   "cell_type": "markdown",
   "metadata": {
    "slideshow": {
     "slide_type": "subslide"
    }
   },
   "source": [
    "## Moduł math\n",
    "\n",
    "---"
   ]
  },
  {
   "cell_type": "code",
   "execution_count": 35,
   "metadata": {
    "nbpresent": {
     "id": "9dcd6dca-e868-41d8-b32c-bf4405cbbf8f"
    },
    "slideshow": {
     "slide_type": "-"
    }
   },
   "outputs": [
    {
     "data": {
      "text/plain": [
       "['__doc__',\n",
       " '__name__',\n",
       " '__package__',\n",
       " 'acos',\n",
       " 'acosh',\n",
       " 'asin',\n",
       " 'asinh',\n",
       " 'atan',\n",
       " 'atanh',\n",
       " 'cos',\n",
       " 'cosh',\n",
       " 'e',\n",
       " 'exp',\n",
       " 'isinf',\n",
       " 'isnan',\n",
       " 'log',\n",
       " 'log10',\n",
       " 'phase',\n",
       " 'pi',\n",
       " 'polar',\n",
       " 'rect',\n",
       " 'sin',\n",
       " 'sinh',\n",
       " 'sqrt',\n",
       " 'tan',\n",
       " 'tanh']"
      ]
     },
     "execution_count": 35,
     "metadata": {},
     "output_type": "execute_result"
    }
   ],
   "source": [
    "import cmath # biblioteka standardowa dla liczb zespolonych\n",
    "\n",
    "dir(cmath) # porównaj z dir(math), jasne czemu moduł.funkcja?"
   ]
  },
  {
   "cell_type": "code",
   "execution_count": 53,
   "metadata": {},
   "outputs": [
    {
     "name": "stdout",
     "output_type": "stream",
     "text": [
      "1.22464679915e-16\n",
      "0.00\n",
      "(1.22464679915e-16-0j)\n",
      "0.00159265291649\n",
      "0.00159265291649\n",
      "(0.00159265291649-0j)\n"
     ]
    }
   ],
   "source": [
    "import math\n",
    "print math.sin(math.pi)\n",
    "print \"{0:.2f}\".format(math.sin(math.pi))\n",
    "import cmath\n",
    "print cmath.sin(math.pi)\n",
    "import math as m\n",
    "print m.sin(3.14)\n",
    "%precision 3\n",
    "from math import *\n",
    "print sin(3.14)\n",
    "from cmath import *\n",
    "print sin(3.14)"
   ]
  },
  {
   "cell_type": "markdown",
   "metadata": {
    "slideshow": {
     "slide_type": "subslide"
    }
   },
   "source": [
    "## Moduł math\n",
    "\n",
    "---"
   ]
  },
  {
   "cell_type": "code",
   "execution_count": 37,
   "metadata": {
    "nbpresent": {
     "id": "eff2592c-45c3-4f35-afa0-b696b0ebb5d1"
    },
    "slideshow": {
     "slide_type": "-"
    }
   },
   "outputs": [
    {
     "data": {
      "text/plain": [
       "1j"
      ]
     },
     "execution_count": 37,
     "metadata": {},
     "output_type": "execute_result"
    }
   ],
   "source": [
    "cmath.sqrt(-1) # cmath potrafi"
   ]
  },
  {
   "cell_type": "markdown",
   "metadata": {
    "nbpresent": {
     "id": "237e0b19-8298-4e7b-8b4e-99bad2b5e130"
    },
    "slideshow": {
     "slide_type": "-"
    }
   },
   "source": [
    "```py\n",
    "math.sqrt(-1) # ale math już nie\n",
    "\n",
    "---------------------------------------------------------------------------\n",
    "ValueError                                Traceback (most recent call last)\n",
    "<ipython-input-80-9baf3c39fc4a> in <module>()\n",
    "----> 1 math.sqrt(-1) # ale math już nie\n",
    "\n",
    "ValueError: math domain error```"
   ]
  },
  {
   "cell_type": "markdown",
   "metadata": {
    "slideshow": {
     "slide_type": "slide"
    }
   },
   "source": [
    "## Typ tekstowy\n",
    "\n",
    "---\n",
    "\n",
    "* Python 3 używa domyślnie kodowania *unicode* dla typu *str*\n",
    "* Dzięki czemu mamy polskie znaki od ręki\n",
    "\n",
    "```py\n",
    "Python 3.5.2 |Anaconda 4.2.0 (64-bit)| (default, Jul  2 2016, 17:53:06) \n",
    "[GCC 4.4.7 20120313 (Red Hat 4.4.7-1)] on linux\n",
    "Type \"help\", \"copyright\", \"credits\" or \"license\" for more information.\n",
    ">>> s = \"zażółć gęślą jaźń\"\n",
    ">>> s\n",
    "'zażółć gęślą jaźń'\n",
    ">>> \n",
    "```"
   ]
  },
  {
   "cell_type": "markdown",
   "metadata": {
    "slideshow": {
     "slide_type": "subslide"
    }
   },
   "source": [
    "## Typ tekstowy bez *unicode*\n",
    "\n",
    "---\n",
    "\n",
    "```py\n",
    "Python 2.7.12 (default, Jul  1 2016, 15:12:24) \n",
    "[GCC 5.4.0 20160609] on linux2\n",
    "Type \"help\", \"copyright\", \"credits\" or \"license\" for more information.\n",
    ">>> s = \"zażółć gęślą jaźń\"\n",
    ">>> s\n",
    "'za\\xc5\\xbc\\xc3\\xb3\\xc5\\x82\\xc4\\x87 g\\xc4\\x99\\xc5\\x9bl\\xc4\\x85 ja\\xc5\\xba\\xc5\\x84'\n",
    ">>> \n",
    "```"
   ]
  },
  {
   "cell_type": "markdown",
   "metadata": {
    "nbpresent": {
     "id": "c561fd19-4de2-4ec7-bad3-cf8ce43223b0"
    },
    "slideshow": {
     "slide_type": "subslide"
    }
   },
   "source": [
    "## Typ tekstowy\n",
    "\n",
    "---\n",
    "\n",
    "* Literał łańcuchowy można wprowadzić przez:\n",
    "    * pojedynczy cudzysłów\n",
    "    ```py\n",
    "    s = 'zażółć gęślą jaźń'\n",
    "    ```\n",
    "    * podwójny cudzysłów\n",
    "    ```py\n",
    "    s = \"zażółć gęślą jaźń\"\n",
    "    ```\n",
    "    * potrójny cudzysłów\n",
    "    ```py\n",
    "    s = '''zażółć gęślą jaźń'''\n",
    "    s = \"\"\"zażółć gęślą jaźń\"\"\"\n",
    "    ```"
   ]
  },
  {
   "cell_type": "markdown",
   "metadata": {
    "nbpresent": {
     "id": "5ed05482-343a-4c6b-9180-602cd21c35d5"
    },
    "slideshow": {
     "slide_type": "subslide"
    }
   },
   "source": [
    "## Znak ucieczki\n",
    "\n",
    "---\n",
    "\n",
    "* zmienia interpretację znaku\n",
    "* w Pythonie (i prawie zawsze) jest to \"\\\""
   ]
  },
  {
   "cell_type": "markdown",
   "metadata": {
    "nbpresent": {
     "id": "50524b13-3e11-4278-a01a-dc9dedf4f5df"
    },
    "slideshow": {
     "slide_type": "-"
    }
   },
   "source": [
    "```py\n",
    "print(\"Ala powiedziała: \"Mam kota.\" ...\") # cudzysłów kończy literał\n",
    "\n",
    " File \"<ipython-input-38-2bf66ab2182a>\", line 1\n",
    "    print(\"Ala powiedziała: \"Mam kota.\" ...\") # cudzysłów kończy literał\n",
    "                                ^\n",
    "SyntaxError: invalid syntax```"
   ]
  },
  {
   "cell_type": "code",
   "execution_count": 54,
   "metadata": {
    "nbpresent": {
     "id": "23d0cd53-c23b-448c-8509-4398144a2305"
    },
    "slideshow": {
     "slide_type": "-"
    }
   },
   "outputs": [
    {
     "name": "stdout",
     "output_type": "stream",
     "text": [
      "Ala powiedziała: \"Mam kota.\" ...\n"
     ]
    }
   ],
   "source": [
    "print(\"Ala powiedziała: \\\"Mam kota.\\\" ...\") # chyba że \"uciekniemy\""
   ]
  },
  {
   "cell_type": "code",
   "execution_count": 55,
   "metadata": {
    "nbpresent": {
     "id": "4bdca58d-9beb-4acb-9690-6d9e688cc824"
    },
    "slideshow": {
     "slide_type": "-"
    }
   },
   "outputs": [
    {
     "name": "stdout",
     "output_type": "stream",
     "text": [
      "Ala powiedziała: \"Mam kota.\" ...\n"
     ]
    }
   ],
   "source": [
    "print('Ala powiedziała: \"Mam kota.\" ...') # kombinacja ' i \""
   ]
  },
  {
   "cell_type": "code",
   "execution_count": 56,
   "metadata": {
    "nbpresent": {
     "id": "78187419-0fd3-4472-9f98-52ef73f4b0f6"
    },
    "slideshow": {
     "slide_type": "-"
    }
   },
   "outputs": [
    {
     "name": "stdout",
     "output_type": "stream",
     "text": [
      "Ala powiedziała: 'Mam kota.' ...\n"
     ]
    }
   ],
   "source": [
    "print(\"Ala powiedziała: 'Mam kota.' ...\") # działa w obie strony"
   ]
  },
  {
   "cell_type": "markdown",
   "metadata": {
    "nbpresent": {
     "id": "e180dd3b-3dfe-4cfc-88ff-3d949fce3188"
    },
    "slideshow": {
     "slide_type": "subslide"
    }
   },
   "source": [
    "## Wybrane sekewncje specjalne\n",
    "\n",
    "---\n",
    "\n",
    "* `\\n` - nowa linia\n",
    "* `\\t` - tabulacja\n",
    "* `\\r` - powrót kursora\n",
    "* `\\v` - pionowa \n",
    "\n",
    "\n",
    "*(Jupyter nie rozumie `\\r`)* "
   ]
  },
  {
   "cell_type": "code",
   "execution_count": 42,
   "metadata": {
    "nbpresent": {
     "id": "885fbec7-8f4d-42ec-9118-cb1c6e9b78d0"
    },
    "slideshow": {
     "slide_type": "-"
    }
   },
   "outputs": [
    {
     "name": "stdout",
     "output_type": "stream",
     "text": [
      "\\n wstawia nową linię.\n",
      "Nowa linia.\n"
     ]
    }
   ],
   "source": [
    "print(\"\\\\n wstawia nową linię.\\nNowa linia.\") # zwróć uwagę na \\\\n"
   ]
  },
  {
   "cell_type": "code",
   "execution_count": 43,
   "metadata": {
    "nbpresent": {
     "id": "d97b06d1-3c24-4e92-a1a6-03b4693aba6c"
    },
    "slideshow": {
     "slide_type": "-"
    }
   },
   "outputs": [
    {
     "name": "stdout",
     "output_type": "stream",
     "text": [
      "\tTabulacja też się przydaje.\n"
     ]
    }
   ],
   "source": [
    "print(\"\\tTabulacja też się przydaje.\") # brak spacji po \\t"
   ]
  },
  {
   "cell_type": "markdown",
   "metadata": {
    "nbpresent": {
     "id": "d2826524-8484-48dd-ad3a-c3d82558371b"
    },
    "slideshow": {
     "slide_type": "subslide"
    }
   },
   "source": [
    "## *Carriage return*\n",
    "\n",
    "---\n",
    "\n",
    "```py\n",
    "# nowa forma importowania: from [moduł] import [funkcja]\n",
    "from time import sleep\n",
    "# alternatywa: import time\n",
    "\n",
    "# drukujemy liczby od 0 do 100\n",
    "for i in range(100):\n",
    "    print(i, end=\"%\\r\") # kończąc każdą linię % i carriage return\n",
    "    sleep(1) # i czekamy sekundę na następną liczbę\n",
    "    # alternatywa: time.sleep(1)\n",
    "```"
   ]
  },
  {
   "cell_type": "markdown",
   "metadata": {
    "slideshow": {
     "slide_type": "subslide"
    }
   },
   "source": [
    "## Długie łancuchy\n",
    "\n",
    "---"
   ]
  },
  {
   "cell_type": "code",
   "execution_count": 44,
   "metadata": {
    "nbpresent": {
     "id": "fd768496-5fac-4871-a6d3-b34379222d33"
    },
    "slideshow": {
     "slide_type": "-"
    }
   },
   "outputs": [
    {
     "name": "stdout",
     "output_type": "stream",
     "text": [
      "Lorem Ipsum jest tekstem stosowanym jako przykładowy\n",
      "wypełniacz w przemyśle poligraficznym. Został po raz\n",
      "pierwszy użyty w XV w. przez nieznanego drukarza do\n",
      "wypełnienia tekstem próbnej książki. Pięć wieków później\n",
      "zaczął być używany przemyśle elektronicznym,\n",
      "pozostając praktycznie niezmienionym. Spopularyzował się\n",
      "w latach 60. XX w. wraz z publikacją arkuszy Letrasetu,\n",
      "zawierających fragmenty Lorem Ipsum, a ostatnio z zawierającym\n",
      "różne wersje Lorem Ipsum oprogramowaniem przeznaczonym do\n",
      "realizacji druków na komputerach osobistych, jak Aldus PageMaker\n",
      "\n"
     ]
    }
   ],
   "source": [
    "tekst = \"\"\"Lorem Ipsum jest tekstem stosowanym jako przykładowy\n",
    "wypełniacz w przemyśle poligraficznym. Został po raz\n",
    "pierwszy użyty w XV w. przez nieznanego drukarza do\n",
    "wypełnienia tekstem próbnej książki. Pięć wieków później\n",
    "zaczął być używany przemyśle elektronicznym,\n",
    "pozostając praktycznie niezmienionym. Spopularyzował się\n",
    "w latach 60. XX w. wraz z publikacją arkuszy Letrasetu,\n",
    "zawierających fragmenty Lorem Ipsum, a ostatnio z zawierającym\n",
    "różne wersje Lorem Ipsum oprogramowaniem przeznaczonym do\n",
    "realizacji druków na komputerach osobistych, jak Aldus PageMaker\n",
    "\"\"\"\n",
    "\n",
    "print(tekst)"
   ]
  },
  {
   "cell_type": "markdown",
   "metadata": {},
   "source": [
    "# Przykład z przyszłości"
   ]
  },
  {
   "cell_type": "code",
   "execution_count": 70,
   "metadata": {},
   "outputs": [
    {
     "name": "stdout",
     "output_type": "stream",
     "text": [
      "[[  1.   0.   0.]\n",
      " [  2.   3.   4.]\n",
      " [  1.   5.  12.]]\n",
      "3.0\n"
     ]
    }
   ],
   "source": [
    "import numpy as np # o tej bibliotece dowiecie się później\n",
    "from io import StringIO # Klasa która tworzy w pamięci plik tekstowy wewnątrz programu (bez fizycznego pliku tekstowego)\n",
    "\n",
    "'''\n",
    "Otrzymaliśmy dane:\n",
    "\n",
    "1 0 0 \n",
    "2 3 4\n",
    "1 5 12\n",
    "\n",
    "Chcemy wczytać je przez proste kopiuj wklej\n",
    "'''\n",
    "\n",
    "data = u\"\"\"1    0 0\n",
    "2    3 4\n",
    "1    5 12\"\"\"\n",
    "\n",
    "file_from_data = StringIO(data)\n",
    "\n",
    "matrix = np.loadtxt(file_from_data)\n",
    "\n",
    "print matrix\n",
    "print matrix[1,1]"
   ]
  },
  {
   "cell_type": "markdown",
   "metadata": {},
   "source": [
    "# Formatowanie tekstu"
   ]
  },
  {
   "cell_type": "code",
   "execution_count": 45,
   "metadata": {},
   "outputs": [
    {
     "name": "stdout",
     "output_type": "stream",
     "text": [
      "1.0 1.0\n",
      "1.000 1.0     1.0000\n",
      "1.000 1.0 xxxxxxxxxx\n"
     ]
    }
   ],
   "source": [
    "print \"{} {}\".format(x,y)\n",
    "print \"{0:.3f} {1:.1f} {1:>10.4f}\".format(x,y)\n",
    "print \"{0:.3f} {1:.1f} xxxxxxxxxx\".format(x,y)"
   ]
  },
  {
   "cell_type": "code",
   "execution_count": 46,
   "metadata": {
    "slideshow": {
     "slide_type": "-"
    }
   },
   "outputs": [],
   "source": [
    "# [zmienna] [operator przypisania] [wartość]\n",
    "# typowanie dynamiczne\n",
    "\n",
    "n = 10  # liczba całkowita\n",
    "x = 1.5 # liczba zmiennoprzecinkowa\n",
    "c = 2j  # liczba zespolona\n",
    "s = \"Python\" # łańcuch znaków"
   ]
  },
  {
   "cell_type": "markdown",
   "metadata": {
    "slideshow": {
     "slide_type": "subslide"
    }
   },
   "source": [
    "## Łańuch znaków\n",
    "\n",
    "---\n",
    "\n",
    "* zmienna *str* przechowuje tak naprawdę ciąg znaków\n",
    "* w którym każdy znak ma określoną pozycję"
   ]
  },
  {
   "cell_type": "code",
   "execution_count": 47,
   "metadata": {
    "slideshow": {
     "slide_type": "-"
    }
   },
   "outputs": [
    {
     "data": {
      "text/plain": [
       "'P'"
      ]
     },
     "execution_count": 47,
     "metadata": {},
     "output_type": "execute_result"
    }
   ],
   "source": [
    "s = \"Python\"\n",
    "\n",
    "s[0] # str[i] -> i-ty znak w ciągu"
   ]
  },
  {
   "cell_type": "code",
   "execution_count": 48,
   "metadata": {
    "slideshow": {
     "slide_type": "-"
    }
   },
   "outputs": [
    {
     "data": {
      "text/plain": [
       "'y'"
      ]
     },
     "execution_count": 48,
     "metadata": {},
     "output_type": "execute_result"
    }
   ],
   "source": [
    "s[1] # pierwszy to drugi?"
   ]
  },
  {
   "cell_type": "code",
   "execution_count": 49,
   "metadata": {
    "slideshow": {
     "slide_type": "-"
    }
   },
   "outputs": [
    {
     "data": {
      "text/plain": [
       "'t'"
      ]
     },
     "execution_count": 49,
     "metadata": {},
     "output_type": "execute_result"
    }
   ],
   "source": [
    "s[2]"
   ]
  },
  {
   "cell_type": "markdown",
   "metadata": {
    "slideshow": {
     "slide_type": "subslide"
    }
   },
   "source": [
    "## Indeksowanie\n",
    "\n",
    "---\n",
    "\n",
    "* indeksowanie zaczyna się od 0 a kończy na *n-1*, gdzie *n* - długość ciągu"
   ]
  },
  {
   "cell_type": "code",
   "execution_count": 50,
   "metadata": {
    "slideshow": {
     "slide_type": "-"
    }
   },
   "outputs": [
    {
     "name": "stdout",
     "output_type": "stream",
     "text": [
      "6\n"
     ]
    }
   ],
   "source": [
    "s = \"Python\"\n",
    "\n",
    "n = len(s) # długość łańcucha s\n",
    "\n",
    "print(n)"
   ]
  },
  {
   "cell_type": "code",
   "execution_count": 51,
   "metadata": {
    "slideshow": {
     "slide_type": "-"
    }
   },
   "outputs": [
    {
     "data": {
      "text/plain": [
       "'n'"
      ]
     },
     "execution_count": 51,
     "metadata": {},
     "output_type": "execute_result"
    }
   ],
   "source": [
    "s[n-1] # ostatni element"
   ]
  },
  {
   "cell_type": "markdown",
   "metadata": {
    "slideshow": {
     "slide_type": "-"
    }
   },
   "source": [
    "```py\n",
    "s[n] # poza zakresem\n",
    "\n",
    "---------------------------------------------------------------------------\n",
    "IndexError                                Traceback (most recent call last)\n",
    "<ipython-input-52-1dea7ae0782c> in <module>()\n",
    "----> 1 s[n] # poza zakresem\n",
    "\n",
    "IndexError: string index out of range```"
   ]
  },
  {
   "cell_type": "markdown",
   "metadata": {
    "slideshow": {
     "slide_type": "subslide"
    }
   },
   "source": [
    "## Wycinki\n",
    "\n",
    "---"
   ]
  },
  {
   "cell_type": "code",
   "execution_count": 71,
   "metadata": {
    "slideshow": {
     "slide_type": "-"
    }
   },
   "outputs": [
    {
     "data": {
      "text/plain": [
       "'th'"
      ]
     },
     "execution_count": 71,
     "metadata": {},
     "output_type": "execute_result"
    }
   ],
   "source": [
    "s = \"Python\"\n",
    "\n",
    "s[2:4] # elementy od 2 do 3 (czyli \"od 3 do 4\")"
   ]
  },
  {
   "cell_type": "code",
   "execution_count": 72,
   "metadata": {
    "slideshow": {
     "slide_type": "-"
    }
   },
   "outputs": [
    {
     "data": {
      "text/plain": [
       "'thon'"
      ]
     },
     "execution_count": 72,
     "metadata": {},
     "output_type": "execute_result"
    }
   ],
   "source": [
    "s[2:] # od indeksu 2 do końca"
   ]
  },
  {
   "cell_type": "code",
   "execution_count": 73,
   "metadata": {
    "slideshow": {
     "slide_type": "-"
    }
   },
   "outputs": [
    {
     "data": {
      "text/plain": [
       "'Py'"
      ]
     },
     "execution_count": 73,
     "metadata": {},
     "output_type": "execute_result"
    }
   ],
   "source": [
    "s[:2] # od początku do 1"
   ]
  },
  {
   "cell_type": "code",
   "execution_count": 74,
   "metadata": {
    "slideshow": {
     "slide_type": "-"
    }
   },
   "outputs": [
    {
     "data": {
      "text/plain": [
       "'thon'"
      ]
     },
     "execution_count": 74,
     "metadata": {},
     "output_type": "execute_result"
    }
   ],
   "source": [
    "s[2:1000] # nie ma błędu o wyjściu poza zakres"
   ]
  },
  {
   "cell_type": "markdown",
   "metadata": {
    "slideshow": {
     "slide_type": "subslide"
    }
   },
   "source": [
    "## Wycinki z krokiem\n",
    "\n",
    "---"
   ]
  },
  {
   "cell_type": "code",
   "execution_count": 75,
   "metadata": {
    "slideshow": {
     "slide_type": "-"
    }
   },
   "outputs": [
    {
     "data": {
      "text/plain": [
       "'246'"
      ]
     },
     "execution_count": 75,
     "metadata": {},
     "output_type": "execute_result"
    }
   ],
   "source": [
    "s = \"0123456789\"\n",
    "\n",
    "s[2:8:2] # sekwencja[początek:koniec:krok]"
   ]
  },
  {
   "cell_type": "code",
   "execution_count": 76,
   "metadata": {
    "slideshow": {
     "slide_type": "-"
    }
   },
   "outputs": [
    {
     "data": {
      "text/plain": [
       "'258'"
      ]
     },
     "execution_count": 76,
     "metadata": {},
     "output_type": "execute_result"
    }
   ],
   "source": [
    "s[2::3] # od 2 do końca co 3"
   ]
  },
  {
   "cell_type": "code",
   "execution_count": 77,
   "metadata": {
    "slideshow": {
     "slide_type": "-"
    }
   },
   "outputs": [
    {
     "data": {
      "text/plain": [
       "'02468'"
      ]
     },
     "execution_count": 77,
     "metadata": {},
     "output_type": "execute_result"
    }
   ],
   "source": [
    "s[::2] # od początu do końca co 2"
   ]
  },
  {
   "cell_type": "markdown",
   "metadata": {
    "slideshow": {
     "slide_type": "subslide"
    }
   },
   "source": [
    "## Indeksy ujemne\n",
    "\n",
    "---\n",
    "\n",
    "* indeks $-k$ oznacza $n-k$, gdzie $n$ - długość łańcucha"
   ]
  },
  {
   "cell_type": "code",
   "execution_count": 78,
   "metadata": {
    "slideshow": {
     "slide_type": "-"
    }
   },
   "outputs": [
    {
     "data": {
      "text/plain": [
       "'n'"
      ]
     },
     "execution_count": 78,
     "metadata": {},
     "output_type": "execute_result"
    }
   ],
   "source": [
    "s = \"Python\"\n",
    "\n",
    "s[-1] # 6 - 1 = 5 -> ostatni znak"
   ]
  },
  {
   "cell_type": "code",
   "execution_count": 79,
   "metadata": {
    "slideshow": {
     "slide_type": "-"
    }
   },
   "outputs": [
    {
     "data": {
      "text/plain": [
       "'o'"
      ]
     },
     "execution_count": 79,
     "metadata": {},
     "output_type": "execute_result"
    }
   ],
   "source": [
    "s[-2] # 6 - 2 = 4 -> przedostatni"
   ]
  },
  {
   "cell_type": "code",
   "execution_count": 80,
   "metadata": {
    "slideshow": {
     "slide_type": "-"
    }
   },
   "outputs": [
    {
     "data": {
      "text/plain": [
       "'on'"
      ]
     },
     "execution_count": 80,
     "metadata": {},
     "output_type": "execute_result"
    }
   ],
   "source": [
    "s[-2:] # od 4 do końca -> dwa ostatnie"
   ]
  },
  {
   "cell_type": "code",
   "execution_count": 81,
   "metadata": {
    "slideshow": {
     "slide_type": "-"
    }
   },
   "outputs": [
    {
     "data": {
      "text/plain": [
       "'Pyth'"
      ]
     },
     "execution_count": 81,
     "metadata": {},
     "output_type": "execute_result"
    }
   ],
   "source": [
    "s[:-2] # wszystko oprócz dwóch ostatnich"
   ]
  },
  {
   "cell_type": "markdown",
   "metadata": {
    "slideshow": {
     "slide_type": "slide"
    }
   },
   "source": [
    "## Lista (*list*)\n",
    "\n",
    "---\n",
    "\n",
    "* sekwencja zmiennych dowolnego typu\n",
    "* dynamiczny rozmiar\n",
    "* inicjowana jest:\n",
    "    * nawiasy kwadratowe\n",
    "    * jawnie *list([iterable])* (czyli konstruktor klasy *list*)\n",
    "    * lista składana (*list comprehension*)"
   ]
  },
  {
   "cell_type": "markdown",
   "metadata": {
    "slideshow": {
     "slide_type": "subslide"
    }
   },
   "source": [
    "## Lista przez [ ]\n",
    "\n",
    "---"
   ]
  },
  {
   "cell_type": "code",
   "execution_count": 85,
   "metadata": {
    "slideshow": {
     "slide_type": "-"
    }
   },
   "outputs": [],
   "source": [
    "lista = [1, 2, 'a', \"Python\"]"
   ]
  },
  {
   "cell_type": "code",
   "execution_count": 86,
   "metadata": {
    "slideshow": {
     "slide_type": "-"
    }
   },
   "outputs": [
    {
     "data": {
      "text/plain": [
       "4"
      ]
     },
     "execution_count": 86,
     "metadata": {},
     "output_type": "execute_result"
    }
   ],
   "source": [
    "len(lista) # długość listy"
   ]
  },
  {
   "cell_type": "code",
   "execution_count": 87,
   "metadata": {
    "slideshow": {
     "slide_type": "-"
    }
   },
   "outputs": [
    {
     "data": {
      "text/plain": [
       "1"
      ]
     },
     "execution_count": 87,
     "metadata": {},
     "output_type": "execute_result"
    }
   ],
   "source": [
    "lista[0] # pierwszy element listy"
   ]
  },
  {
   "cell_type": "code",
   "execution_count": 88,
   "metadata": {
    "slideshow": {
     "slide_type": "-"
    }
   },
   "outputs": [
    {
     "data": {
      "text/plain": [
       "'Python'"
      ]
     },
     "execution_count": 88,
     "metadata": {},
     "output_type": "execute_result"
    }
   ],
   "source": [
    "lista[-1] # ostatni element listy"
   ]
  },
  {
   "cell_type": "markdown",
   "metadata": {
    "slideshow": {
     "slide_type": "subslide"
    }
   },
   "source": [
    "## Lista przez konstruktor\n",
    "\n",
    "---"
   ]
  },
  {
   "cell_type": "code",
   "execution_count": 89,
   "metadata": {
    "slideshow": {
     "slide_type": "-"
    }
   },
   "outputs": [
    {
     "name": "stdout",
     "output_type": "stream",
     "text": [
      "[1, 2, 3]\n"
     ]
    }
   ],
   "source": [
    "lista = list([1,2,3]) # bez sensu, ale można\n",
    "\n",
    "print(lista)"
   ]
  },
  {
   "cell_type": "code",
   "execution_count": 90,
   "metadata": {
    "slideshow": {
     "slide_type": "-"
    }
   },
   "outputs": [
    {
     "name": "stdout",
     "output_type": "stream",
     "text": [
      "['P', 'y', 't', 'h', 'o', 'n']\n"
     ]
    }
   ],
   "source": [
    "lista = list(\"Python\") # można stworzyć listę ze string\n",
    "\n",
    "print(lista)"
   ]
  },
  {
   "cell_type": "markdown",
   "metadata": {
    "slideshow": {
     "slide_type": "-"
    }
   },
   "source": [
    "```py\n",
    "lista = list(1) # ale już nie z int\n",
    "\n",
    "---------------------------------------------------------------------------\n",
    "TypeError                                 Traceback (most recent call last)\n",
    "<ipython-input-91-5b92e1b521a9> in <module>()\n",
    "----> 1 lista = list(1) # ale już nie z int\n",
    "\n",
    "TypeError: 'int' object is not iterable```"
   ]
  },
  {
   "cell_type": "markdown",
   "metadata": {
    "slideshow": {
     "slide_type": "subslide"
    }
   },
   "source": [
    "## Lista jako rezultat funkcji\n",
    "\n",
    "---"
   ]
  },
  {
   "cell_type": "code",
   "execution_count": null,
   "metadata": {
    "scrolled": true,
    "slideshow": {
     "slide_type": "-"
    }
   },
   "outputs": [],
   "source": [
    "help(str.split)"
   ]
  },
  {
   "cell_type": "code",
   "execution_count": 95,
   "metadata": {
    "slideshow": {
     "slide_type": "-"
    }
   },
   "outputs": [
    {
     "data": {
      "text/plain": [
       "['Mam', 'dosc', 'ogladania', 'przykladow']"
      ]
     },
     "execution_count": 95,
     "metadata": {},
     "output_type": "execute_result"
    }
   ],
   "source": [
    "(\"Mam dosc ogladania przykladow, komentarzy i kodu\").split()"
   ]
  },
  {
   "cell_type": "code",
   "execution_count": 96,
   "metadata": {
    "slideshow": {
     "slide_type": "-"
    }
   },
   "outputs": [
    {
     "data": {
      "text/plain": [
       "['Mam dosc ogladania przykladow', ' komentarzy i kodu']"
      ]
     },
     "execution_count": 96,
     "metadata": {},
     "output_type": "execute_result"
    }
   ],
   "source": [
    "(\"Mam dosc ogladania przykladow, komentarzy i kodu\").split(',')"
   ]
  },
  {
   "cell_type": "markdown",
   "metadata": {},
   "source": [
    "## Lista składana\n",
    "\n",
    "---"
   ]
  },
  {
   "cell_type": "code",
   "execution_count": 24,
   "metadata": {},
   "outputs": [
    {
     "data": {
      "text/plain": [
       "[3, 4, 9, 10]"
      ]
     },
     "execution_count": 24,
     "metadata": {},
     "output_type": "execute_result"
    }
   ],
   "source": [
    "lista_slow = ['Mam', 'dosc', 'ogladania', 'przykladow']\n",
    "[len(x) for x in lista_slow] # Składnia [co zrobić z elementem for element in lista]"
   ]
  },
  {
   "cell_type": "markdown",
   "metadata": {
    "slideshow": {
     "slide_type": "slide"
    }
   },
   "source": [
    "## Krotka (*tuple*)\n",
    "\n",
    "---\n",
    "\n",
    "* sekwencja zmiennych dowolnego typu\n",
    "* stały rozmiar\n",
    "* inicjowana jest:\n",
    "    * nawiasy okrągłe\n",
    "    * ciąg elementów oddzielonych przecinkiem\n",
    "    * jawnie *tuple([iterable])*"
   ]
  },
  {
   "cell_type": "code",
   "execution_count": 97,
   "metadata": {
    "slideshow": {
     "slide_type": "-"
    }
   },
   "outputs": [
    {
     "name": "stdout",
     "output_type": "stream",
     "text": [
      "(1, 2, 3, 'Python')\n"
     ]
    }
   ],
   "source": [
    "krotka = (1, 2, 3, \"Python\") # jak lista, ale () zamiast []\n",
    "\n",
    "print(krotka)"
   ]
  },
  {
   "cell_type": "code",
   "execution_count": 98,
   "metadata": {
    "slideshow": {
     "slide_type": "-"
    }
   },
   "outputs": [
    {
     "name": "stdout",
     "output_type": "stream",
     "text": [
      "(1, 2, 3, 'Python')\n"
     ]
    }
   ],
   "source": [
    "krotka = 1, 2, 3, \"Python\" # brak nawiasów = tuple\n",
    "\n",
    "print(krotka)"
   ]
  },
  {
   "cell_type": "code",
   "execution_count": null,
   "metadata": {
    "slideshow": {
     "slide_type": "-"
    }
   },
   "outputs": [],
   "source": [
    "lista = list(\"Python\") # lista ze stringa\n",
    "\n",
    "krotka = tuple(lista)  # krotka z listy\n",
    "\n",
    "krotka2 = tuple(\"Python\")  # krotka ze stringa\n",
    "\n",
    "print(lista)\n",
    "print(krotka)\n",
    "print(krotka2)"
   ]
  },
  {
   "cell_type": "markdown",
   "metadata": {
    "slideshow": {
     "slide_type": "subslide"
    }
   },
   "source": [
    "## Lista vs Krotka\n",
    "\n",
    "---\n",
    "\n",
    "* krotka ma stały rozmiar a lista jest dynamiczna\n",
    "* krotka jest \"niezmienna\" (*immutable*) w przeciwieństwie do listy (*mutable*)\n",
    "* jeśli sekwencja obiektów jest stała w czasie działania programu, lepiej używać krotek\n",
    "    * szybsze\n",
    "    * bezpieczniejsze\n",
    "    * mogą być kluczami w słowniku *(o słownikach potem)*"
   ]
  },
  {
   "cell_type": "code",
   "execution_count": 99,
   "metadata": {
    "slideshow": {
     "slide_type": "-"
    }
   },
   "outputs": [
    {
     "name": "stdout",
     "output_type": "stream",
     "text": [
      "[1, 2, 3]\n",
      "[2, 2, 3]\n"
     ]
    }
   ],
   "source": [
    "lista = [1, 2, 3]\n",
    "\n",
    "print(lista)\n",
    "\n",
    "lista[0] = 2\n",
    "\n",
    "print(lista)"
   ]
  },
  {
   "cell_type": "markdown",
   "metadata": {
    "slideshow": {
     "slide_type": "slide"
    }
   },
   "source": [
    "## Range\n",
    "\n",
    "---\n",
    "\n",
    "* uwaga: w Pythonie 2 *range()* jest funkcją wbudowaną; w Pythonie 3 jest to typ danych (klasa)"
   ]
  },
  {
   "cell_type": "code",
   "execution_count": 5,
   "metadata": {
    "slideshow": {
     "slide_type": "-"
    }
   },
   "outputs": [
    {
     "name": "stdout",
     "output_type": "stream",
     "text": [
      "[0, 1, 2, 3, 4, 5, 6, 7, 8, 9]\n"
     ]
    }
   ],
   "source": [
    "x = range(10) # od 0 do 10\n",
    "\n",
    "print(x)"
   ]
  },
  {
   "cell_type": "code",
   "execution_count": 6,
   "metadata": {
    "slideshow": {
     "slide_type": "-"
    }
   },
   "outputs": [],
   "source": [
    "x[0] = 1 # range jest immutable"
   ]
  },
  {
   "cell_type": "code",
   "execution_count": null,
   "metadata": {
    "slideshow": {
     "slide_type": "-"
    }
   },
   "outputs": [],
   "source": [
    "cyfry = range(0, 10)       # range(początek = 0, koniec) \n",
    "\n",
    "'''\n",
    "Stworz range liczb parzystych i nieparzystych\n",
    "\n",
    "parzyste = ? # range(początek, koniec, krok)\n",
    "nieparzyste = ?\n",
    "'''\n",
    "\n",
    "print(list(cyfry))\n",
    "print(list(parzyste))\n",
    "print(list(nieparzyste))"
   ]
  },
  {
   "cell_type": "markdown",
   "metadata": {
    "slideshow": {
     "slide_type": "slide"
    }
   },
   "source": [
    "## Sekwencyjne typy danych\n",
    "\n",
    "---\n",
    "\n",
    "* *list* - dynamiczny ciąg zmiennych dowolnego typu\n",
    "* *tuple* - niezmienniczy ciąg zmiennych dowolnego typu\n",
    "* *range* - dynamiczny ciąg liczba całkowitych\n",
    "* *str* - niezmienniczy ciąg znaków\n",
    "* (dla kompletności) są jeszcze binarne sekwencyjne typy danych: *bytes*, *bytearray*, *memoryview*\n"
   ]
  },
  {
   "cell_type": "markdown",
   "metadata": {},
   "source": [
    "# Przykład z przyszłości"
   ]
  },
  {
   "cell_type": "code",
   "execution_count": 107,
   "metadata": {},
   "outputs": [
    {
     "name": "stdout",
     "output_type": "stream",
     "text": [
      "[ 0.   0.2  0.4  0.6  0.8]\n"
     ]
    }
   ],
   "source": [
    "import numpy as np\n",
    "\n",
    "a = np.arange(0,1,0.2)\n",
    "\n",
    "print a"
   ]
  },
  {
   "cell_type": "markdown",
   "metadata": {
    "slideshow": {
     "slide_type": "subslide"
    }
   },
   "source": [
    "## Operacje na sekwencjach\n",
    "\n",
    "---\n",
    "\n",
    "* splot (*concatenation*)"
   ]
  },
  {
   "cell_type": "code",
   "execution_count": 110,
   "metadata": {
    "slideshow": {
     "slide_type": "-"
    }
   },
   "outputs": [
    {
     "data": {
      "text/plain": [
       "'Python is awesome!'"
      ]
     },
     "execution_count": 110,
     "metadata": {},
     "output_type": "execute_result"
    }
   ],
   "source": [
    "begin = \"Python \"\n",
    "middle = \"is \"\n",
    "end = \"awesome!\"\n",
    "\n",
    "begin + middle + end"
   ]
  },
  {
   "cell_type": "code",
   "execution_count": 111,
   "metadata": {
    "slideshow": {
     "slide_type": "-"
    }
   },
   "outputs": [
    {
     "data": {
      "text/plain": [
       "[5, 6, 7, 8, 1, 2, 3, 4]"
      ]
     },
     "execution_count": 111,
     "metadata": {},
     "output_type": "execute_result"
    }
   ],
   "source": [
    "lista = [1, 2, 3, 4]\n",
    "dodatek = [5, 6, 7, 8]\n",
    "\n",
    "dodatek + lista # kolejność ma znaczenie"
   ]
  },
  {
   "cell_type": "markdown",
   "metadata": {
    "slideshow": {
     "slide_type": "subslide"
    }
   },
   "source": [
    "## Operacje na sekwencjach\n",
    "\n",
    "---\n",
    "\n",
    "* mnożenie przez liczbę calkowitą"
   ]
  },
  {
   "cell_type": "code",
   "execution_count": 112,
   "metadata": {
    "slideshow": {
     "slide_type": "-"
    }
   },
   "outputs": [
    {
     "data": {
      "text/plain": [
       "'----------'"
      ]
     },
     "execution_count": 112,
     "metadata": {},
     "output_type": "execute_result"
    }
   ],
   "source": [
    "znak = '-'\n",
    "\n",
    "znak * 10"
   ]
  },
  {
   "cell_type": "code",
   "execution_count": 113,
   "metadata": {
    "slideshow": {
     "slide_type": "-"
    }
   },
   "outputs": [
    {
     "data": {
      "text/plain": [
       "(1, 2, 3, 1, 2, 3)"
      ]
     },
     "execution_count": 113,
     "metadata": {},
     "output_type": "execute_result"
    }
   ],
   "source": [
    "krotka = (1, 2, 3)\n",
    "\n",
    "2 * krotka"
   ]
  },
  {
   "cell_type": "markdown",
   "metadata": {
    "slideshow": {
     "slide_type": "subslide"
    }
   },
   "source": [
    "## Operacje na sekwencjach\n",
    "\n",
    "---\n",
    "\n",
    "* wycinki"
   ]
  },
  {
   "cell_type": "code",
   "execution_count": 115,
   "metadata": {
    "slideshow": {
     "slide_type": "-"
    }
   },
   "outputs": [
    {
     "data": {
      "text/plain": [
       "[1, 2]"
      ]
     },
     "execution_count": 115,
     "metadata": {},
     "output_type": "execute_result"
    }
   ],
   "source": [
    "lista = [1, 2, 3, \"Python\"]\n",
    "\n",
    "lista[:2] # dwa pierwsze"
   ]
  },
  {
   "cell_type": "code",
   "execution_count": 116,
   "metadata": {
    "slideshow": {
     "slide_type": "-"
    }
   },
   "outputs": [
    {
     "data": {
      "text/plain": [
       "'on'"
      ]
     },
     "execution_count": 116,
     "metadata": {},
     "output_type": "execute_result"
    }
   ],
   "source": [
    "lista[3][-2:] # dwa ostatnie ostatniego"
   ]
  },
  {
   "cell_type": "markdown",
   "metadata": {
    "slideshow": {
     "slide_type": "subslide"
    }
   },
   "source": [
    "## Wspólne funkcje klasowe sekwencji\n",
    "\n",
    "---\n",
    "\n",
    "* *index* - indeks pierwszego znalezionego elementu\n",
    "* *count* - ilość wystąpień elementu"
   ]
  },
  {
   "cell_type": "code",
   "execution_count": 121,
   "metadata": {
    "slideshow": {
     "slide_type": "-"
    }
   },
   "outputs": [
    {
     "name": "stdout",
     "output_type": "stream",
     "text": [
      "[1, 2, 3, 4, 5, 1, 2, 3, 4, 5]\n"
     ]
    }
   ],
   "source": [
    "x = [1, 2, 3, 4, 5] * 2\n",
    "\n",
    "print(x)"
   ]
  },
  {
   "cell_type": "code",
   "execution_count": 122,
   "metadata": {
    "slideshow": {
     "slide_type": "-"
    }
   },
   "outputs": [
    {
     "data": {
      "text/plain": [
       "2"
      ]
     },
     "execution_count": 122,
     "metadata": {},
     "output_type": "execute_result"
    }
   ],
   "source": [
    "x.count(4) # liczba 4 pojawia się 2 razy"
   ]
  },
  {
   "cell_type": "code",
   "execution_count": 123,
   "metadata": {
    "slideshow": {
     "slide_type": "-"
    }
   },
   "outputs": [
    {
     "data": {
      "text/plain": [
       "3"
      ]
     },
     "execution_count": 123,
     "metadata": {},
     "output_type": "execute_result"
    }
   ],
   "source": [
    "x.index(4) # pierwszy raz dla i=3"
   ]
  },
  {
   "cell_type": "markdown",
   "metadata": {
    "slideshow": {
     "slide_type": "subslide"
    }
   },
   "source": [
    "## Operacje na sekwencjach \"zmiennych\" (*mutable*)\n",
    "\n",
    "---"
   ]
  },
  {
   "cell_type": "code",
   "execution_count": 13,
   "metadata": {
    "slideshow": {
     "slide_type": "-"
    }
   },
   "outputs": [
    {
     "name": "stdout",
     "output_type": "stream",
     "text": [
      "[1, 4, 3]\n"
     ]
    }
   ],
   "source": [
    "lista = [1, 2, 3]\n",
    "\n",
    "lista[1] = 4 # zamień wartość drugiego elementu\n",
    "\n",
    "print(lista)"
   ]
  },
  {
   "cell_type": "code",
   "execution_count": 14,
   "metadata": {
    "slideshow": {
     "slide_type": "-"
    }
   },
   "outputs": [
    {
     "name": "stdout",
     "output_type": "stream",
     "text": [
      "[1, 5, 5, 3]\n"
     ]
    }
   ],
   "source": [
    "lista = [1, 2, 3]\n",
    "\n",
    "lista[1:2] = [5, 5] # zamień wycinek\n",
    "\n",
    "print(lista)"
   ]
  },
  {
   "cell_type": "code",
   "execution_count": 15,
   "metadata": {
    "slideshow": {
     "slide_type": "-"
    }
   },
   "outputs": [
    {
     "name": "stdout",
     "output_type": "stream",
     "text": [
      "[1, 3]\n"
     ]
    }
   ],
   "source": [
    "lista = [1, 2, 3]\n",
    "\n",
    "del lista[1:2] # usuń wycinek\n",
    "\n",
    "print(lista)"
   ]
  },
  {
   "cell_type": "code",
   "execution_count": 18,
   "metadata": {
    "slideshow": {
     "slide_type": "-"
    }
   },
   "outputs": [
    {
     "name": "stdout",
     "output_type": "stream",
     "text": [
      "[0, 1, 2, 3, 4, 5, 6, 7, 8, 9]\n",
      "[1, 3, 5, 7, 9]\n",
      "9\n",
      "[1, 3, 5, 7]\n"
     ]
    }
   ],
   "source": [
    "lista = range(10)\n",
    "\n",
    "print(lista)\n",
    "\n",
    "del lista[::2] # usuń co drugi element\n",
    "\n",
    "print(lista)\n",
    "\n",
    "print lista.pop() # Weź ostatni element i usuń go z listy\n",
    "\n",
    "print(lista)"
   ]
  },
  {
   "cell_type": "markdown",
   "metadata": {
    "slideshow": {
     "slide_type": "subslide"
    }
   },
   "source": [
    "## Funkcje klasowe sekwencji \"zmiennych\" (*mutable*)\n",
    "\n",
    "---"
   ]
  },
  {
   "cell_type": "code",
   "execution_count": 131,
   "metadata": {
    "slideshow": {
     "slide_type": "-"
    }
   },
   "outputs": [
    {
     "name": "stdout",
     "output_type": "stream",
     "text": [
      "[1, 2, 3, 4, 5, 6]\n",
      "[1, 2, 3, 4, 5, 6, [7, 8, 9]]\n"
     ]
    }
   ],
   "source": [
    "lista = [1, 2, 3, 4, 5]\n",
    "\n",
    "lista.append(6) # append dodaje element na koniec listy\n",
    "\n",
    "print(lista)\n",
    "\n",
    "lista.append([7, 8, 9]) # lista dodana jako element\n",
    "\n",
    "print(lista)"
   ]
  },
  {
   "cell_type": "code",
   "execution_count": 11,
   "metadata": {
    "slideshow": {
     "slide_type": "-"
    }
   },
   "outputs": [
    {
     "name": "stdout",
     "output_type": "stream",
     "text": [
      "[1, 2, 3, 4, 5, 6, 7, 8, 9]\n"
     ]
    }
   ],
   "source": [
    "lista = [1, 2, 3, 4, 5]\n",
    "\n",
    "lista.extend([6, 7, 8, 9]) # extend rozwija listę \n",
    "\n",
    "print(lista)"
   ]
  },
  {
   "cell_type": "code",
   "execution_count": 134,
   "metadata": {
    "slideshow": {
     "slide_type": "-"
    }
   },
   "outputs": [
    {
     "name": "stdout",
     "output_type": "stream",
     "text": [
      "[1, 4, 2, 3]\n"
     ]
    }
   ],
   "source": [
    "lista = [1, 2, 3]\n",
    "\n",
    "lista.insert(1, 4) # wstaw 4 pod indeks 2\n",
    "\n",
    "print(lista)"
   ]
  },
  {
   "cell_type": "code",
   "execution_count": 25,
   "metadata": {
    "slideshow": {
     "slide_type": "-"
    }
   },
   "outputs": [
    {
     "name": "stdout",
     "output_type": "stream",
     "text": [
      "['a', 'b', 3, 'a', 'b', 3, 'a', 'b', 3]\n",
      "['a', 3, 'a', 'b', 3, 'a', 'b', 3]\n"
     ]
    }
   ],
   "source": [
    "lista = ['a', 'b', 3] * 3\n",
    "\n",
    "print(lista)\n",
    "\n",
    "lista.remove('b') # usuń element (pierwsze wystąpienie)\n",
    "\n",
    "print(lista)"
   ]
  },
  {
   "cell_type": "code",
   "execution_count": null,
   "metadata": {
    "slideshow": {
     "slide_type": "-"
    }
   },
   "outputs": [],
   "source": [
    "lista = [1, 2, 3]\n",
    "\n",
    "lista.reverse() # odwróć kolejność\n",
    "\n",
    "print(lista)"
   ]
  },
  {
   "cell_type": "markdown",
   "metadata": {
    "slideshow": {
     "slide_type": "subslide"
    }
   },
   "source": [
    "## Funkcja *sort* - tylko dla list"
   ]
  },
  {
   "cell_type": "code",
   "execution_count": 12,
   "metadata": {
    "slideshow": {
     "slide_type": "-"
    }
   },
   "outputs": [
    {
     "name": "stdout",
     "output_type": "stream",
     "text": [
      "['C', 'D', 'a', 'b', 'e']\n",
      "['a', 'b', 'C', 'D', 'e']\n"
     ]
    }
   ],
   "source": [
    "lista = ['e', 'D', 'a', 'b', 'C']\n",
    "\n",
    "lista.sort() # sortuj \n",
    "\n",
    "print(lista)\n",
    "\n",
    "lista.sort(key=str.lower) # sortuj wg funkcji key\n",
    "\n",
    "print(lista)"
   ]
  },
  {
   "cell_type": "markdown",
   "metadata": {
    "slideshow": {
     "slide_type": "slide"
    }
   },
   "source": [
    "## Typ logiczny (boolowski, *boolean*)\n",
    "\n",
    "---\n",
    "\n",
    "* przyjmuje wartości: prawda lub fałsz\n",
    "* w Pythonie następujące wartości są utożsamiane z fałszem:\n",
    "    * False\n",
    "    * None\n",
    "    * zero dowolnego typu (0, 0.0, 0j)\n",
    "    * pusta sekwencja '', (), [] lub mapowanie {}\n",
    "* pozostałe wartości uznawane są za prawdę"
   ]
  },
  {
   "cell_type": "code",
   "execution_count": 20,
   "metadata": {
    "slideshow": {
     "slide_type": "-"
    }
   },
   "outputs": [],
   "source": [
    "x = 1     # zmiennej x przypisz wartość 1\n",
    "y = 2     # zmiennej y przypisz wartość 2\n",
    "False = 3 # zmiennej False przypusz wartość 3"
   ]
  },
  {
   "cell_type": "code",
   "execution_count": 136,
   "metadata": {
    "slideshow": {
     "slide_type": "-"
    }
   },
   "outputs": [
    {
     "name": "stdout",
     "output_type": "stream",
     "text": [
      "['and', 'as', 'assert', 'break', 'class', 'continue', 'def', 'del', 'elif', 'else', 'except', 'exec', 'finally', 'for', 'from', 'global', 'if', 'import', 'in', 'is', 'lambda', 'not', 'or', 'pass', 'print', 'raise', 'return', 'try', 'while', 'with', 'yield']\n"
     ]
    }
   ],
   "source": [
    "import keyword\n",
    "print(keyword.kwlist) # lista słów kluczowych w Pythonie"
   ]
  },
  {
   "cell_type": "markdown",
   "metadata": {
    "slideshow": {
     "slide_type": "subslide"
    }
   },
   "source": [
    "## Dygresja - niedozwolone nazwy zmiennych\n",
    "\n",
    "---\n",
    "\n",
    "* słowa kluczowe\n",
    "* zaczynające się od cyfry\n",
    "* zawierające polskie znaki\n",
    "* zawierające cokolwiek innego niż litery, cyfry i `_`"
   ]
  },
  {
   "cell_type": "markdown",
   "metadata": {
    "slideshow": {
     "slide_type": "subslide"
    }
   },
   "source": [
    "## Porównania\n",
    "\n",
    "---\n",
    "\n",
    "| Operacja | Znaczenie |\n",
    "|:--------:|:---------:|\n",
    "| ==       | równe     |\n",
    "| !=       | różne     |\n",
    "| <        | mniejsze  |\n",
    "| >        | większe   |\n",
    "| <=       | mniejsze lub równe |\n",
    "| >=       | większe lub równe  |\n",
    "| is       | ten sam identyfikator |\n",
    "| is not   | inny identyfikator |"
   ]
  },
  {
   "cell_type": "markdown",
   "metadata": {
    "slideshow": {
     "slide_type": "subslide"
    }
   },
   "source": [
    "## Porównania\n",
    "---"
   ]
  },
  {
   "cell_type": "code",
   "execution_count": 137,
   "metadata": {
    "slideshow": {
     "slide_type": "-"
    }
   },
   "outputs": [
    {
     "data": {
      "text/plain": [
       "True"
      ]
     },
     "execution_count": 137,
     "metadata": {},
     "output_type": "execute_result"
    }
   ],
   "source": [
    "1 > 0 # większy niż"
   ]
  },
  {
   "cell_type": "markdown",
   "metadata": {
    "slideshow": {
     "slide_type": "subslide"
    }
   },
   "source": [
    "## Mutable vs Immutable\n",
    "---\n",
    "\n",
    "* immutable: int, float, complex, str, tuple, (frozen set, bytes)\n",
    "    * przypisanie zmiennej nowej wartości tworzy nowy obiekt w pamięci\n",
    "* mutable: list, (set, dict, byte array)\n",
    "    * możliwa modyfikacja obiektu\n",
    "\n",
    "---\n",
    "\n",
    "## Konsekwencje\n",
    "\n",
    "---"
   ]
  },
  {
   "cell_type": "code",
   "execution_count": 22,
   "metadata": {},
   "outputs": [
    {
     "name": "stdout",
     "output_type": "stream",
     "text": [
      "2\n",
      "(54814112L, 54814040L)\n"
     ]
    }
   ],
   "source": [
    "x = 2 # uwtórz obiekt typu int\n",
    "y = x # y wskazuje na to samo co x\n",
    "\n",
    "y = 5 # zmieniam y - nowe miejsce w pamięci\n",
    "\n",
    "print(x) # x dalej wskazuje na 2\n",
    "print(id(x),id(y))"
   ]
  },
  {
   "cell_type": "code",
   "execution_count": 142,
   "metadata": {
    "slideshow": {
     "slide_type": "-"
    }
   },
   "outputs": [
    {
     "name": "stdout",
     "output_type": "stream",
     "text": [
      "(125564488L, 125564488L)\n"
     ]
    }
   ],
   "source": [
    "x = [1, 2, 3] # utwórz obiekt typu list\n",
    "y = x # y wskazuje na to samo co x\n",
    "\n",
    "print(id(x), id(y))"
   ]
  },
  {
   "cell_type": "code",
   "execution_count": 143,
   "metadata": {
    "slideshow": {
     "slide_type": "-"
    }
   },
   "outputs": [
    {
     "name": "stdout",
     "output_type": "stream",
     "text": [
      "[4, 2, 3]\n"
     ]
    }
   ],
   "source": [
    "y[0] = 4 # modyfikuję y\n",
    "\n",
    "print(x) # a zmienia się x..."
   ]
  },
  {
   "cell_type": "markdown",
   "metadata": {
    "slideshow": {
     "slide_type": "subslide"
    }
   },
   "source": [
    "## Funkcja *copy*"
   ]
  },
  {
   "cell_type": "code",
   "execution_count": 144,
   "metadata": {
    "slideshow": {
     "slide_type": "-"
    }
   },
   "outputs": [
    {
     "name": "stdout",
     "output_type": "stream",
     "text": [
      "(110906120L, 117200328L)\n",
      "[1, 2, 3]\n"
     ]
    }
   ],
   "source": [
    "from copy import copy\n",
    "\n",
    "x = [1, 2, 3] # utwórz obiekt typu list\n",
    "y = copy(x)  # stwórz kopię tego obiektu (w pythonie 3 wystarczy x.copy() )\n",
    "\n",
    "print(id(x), id(y)) # teraz są to dwa różne obiekty\n",
    "\n",
    "y[0] = 4 # modyfikuję y\n",
    "print(x) # i x już się nie zmienia"
   ]
  }
 ],
 "metadata": {
  "anaconda-cloud": {},
  "celltoolbar": "Slideshow",
  "kernelspec": {
   "display_name": "Python 2",
   "language": "python",
   "name": "python2"
  },
  "language_info": {
   "codemirror_mode": {
    "name": "ipython",
    "version": 2
   },
   "file_extension": ".py",
   "mimetype": "text/x-python",
   "name": "python",
   "nbconvert_exporter": "python",
   "pygments_lexer": "ipython2",
   "version": "2.7.14"
  }
 },
 "nbformat": 4,
 "nbformat_minor": 1
}
