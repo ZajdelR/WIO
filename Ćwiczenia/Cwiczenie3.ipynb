{
 "cells": [
  {
   "cell_type": "markdown",
   "metadata": {},
   "source": [
    "### Macierze\n",
    "\n",
    "---\n",
    "\n",
    "Język python sam w sobie nie obsługuje działania na macierzach dlatego korzystamy ze specjalnej biblioteki numpy, której zadaniem jest przygotowanie pythona do operacji na macierzach"
   ]
  },
  {
   "cell_type": "code",
   "execution_count": 2,
   "metadata": {},
   "outputs": [],
   "source": [
    "import numpy as np #Importujemy bibliotekę numpy"
   ]
  },
  {
   "cell_type": "markdown",
   "metadata": {},
   "source": [
    "Powyższa ścieżka zaimportuje bibliotekę numpy i pozwoli nam odwoływac się do jej funkcji wewnątrz tworzonego skrypu pod zmienną np"
   ]
  },
  {
   "cell_type": "code",
   "execution_count": 3,
   "metadata": {},
   "outputs": [
    {
     "data": {
      "text/plain": [
       "array([[ 0.,  0.,  0.,  0.,  0.],\n",
       "       [ 0.,  0.,  0.,  0.,  0.],\n",
       "       [ 0.,  0.,  0.,  0.,  0.],\n",
       "       [ 0.,  0.,  0.,  0.,  0.],\n",
       "       [ 0.,  0.,  0.,  0.,  0.]])"
      ]
     },
     "execution_count": 3,
     "metadata": {},
     "output_type": "execute_result"
    }
   ],
   "source": [
    "np.zeros([5,5])"
   ]
  },
  {
   "cell_type": "code",
   "execution_count": 4,
   "metadata": {},
   "outputs": [
    {
     "data": {
      "text/plain": [
       "array([ 0. ,  2.5,  5. ,  7.5])"
      ]
     },
     "execution_count": 4,
     "metadata": {},
     "output_type": "execute_result"
    }
   ],
   "source": [
    "np.arange(0,10,2.5)"
   ]
  },
  {
   "cell_type": "markdown",
   "metadata": {},
   "source": [
    "---\n",
    "Jeżeli chcemy wczytać wszystkie funkcje bezpośrednio a nie przez referencje w zmiennej, używamy składni jak niżej. Uwaga ! Jeżeli dana funkcja istnieje już w pakiecie podstawowym, zostanie ona \"nadpisana\"\n",
    "\n",
    "---"
   ]
  },
  {
   "cell_type": "code",
   "execution_count": 22,
   "metadata": {},
   "outputs": [],
   "source": [
    "from numpy import *"
   ]
  },
  {
   "cell_type": "code",
   "execution_count": 23,
   "metadata": {},
   "outputs": [
    {
     "data": {
      "text/plain": [
       "array([ 0. ,  2.5,  5. ,  7.5])"
      ]
     },
     "execution_count": 23,
     "metadata": {},
     "output_type": "execute_result"
    }
   ],
   "source": [
    "arange(0,10,2.5)"
   ]
  },
  {
   "cell_type": "code",
   "execution_count": 24,
   "metadata": {},
   "outputs": [
    {
     "data": {
      "text/plain": [
       "array([[ 0.,  0.,  0.,  0.,  0.],\n",
       "       [ 0.,  0.,  0.,  0.,  0.],\n",
       "       [ 0.,  0.,  0.,  0.,  0.],\n",
       "       [ 0.,  0.,  0.,  0.,  0.],\n",
       "       [ 0.,  0.,  0.,  0.,  0.]])"
      ]
     },
     "execution_count": 24,
     "metadata": {},
     "output_type": "execute_result"
    }
   ],
   "source": [
    "zeros([5,5])"
   ]
  },
  {
   "cell_type": "markdown",
   "metadata": {},
   "source": [
    "## Macierze i operacje na skalarach"
   ]
  },
  {
   "cell_type": "code",
   "execution_count": 25,
   "metadata": {},
   "outputs": [],
   "source": [
    "array1 = array([[1,2,3,4],[8,9,10,11]])"
   ]
  },
  {
   "cell_type": "code",
   "execution_count": 26,
   "metadata": {},
   "outputs": [
    {
     "data": {
      "text/plain": [
       "array([[0, 0, 0, 0],\n",
       "       [0, 0, 0, 0]])"
      ]
     },
     "execution_count": 26,
     "metadata": {},
     "output_type": "execute_result"
    }
   ],
   "source": [
    "array1 - array1"
   ]
  },
  {
   "cell_type": "code",
   "execution_count": 28,
   "metadata": {},
   "outputs": [
    {
     "data": {
      "text/plain": [
       "array([[ 1.        ,  0.5       ,  0.33333333,  0.25      ],\n",
       "       [ 0.125     ,  0.11111111,  0.1       ,  0.09090909]])"
      ]
     },
     "execution_count": 28,
     "metadata": {},
     "output_type": "execute_result"
    }
   ],
   "source": [
    "1.0/array1"
   ]
  },
  {
   "cell_type": "code",
   "execution_count": 29,
   "metadata": {},
   "outputs": [
    {
     "data": {
      "text/plain": [
       "array([[   1,    8,   27,   64],\n",
       "       [ 512,  729, 1000, 1331]])"
      ]
     },
     "execution_count": 29,
     "metadata": {},
     "output_type": "execute_result"
    }
   ],
   "source": [
    "array1 ** 3 # do potęgi 3"
   ]
  },
  {
   "cell_type": "markdown",
   "metadata": {},
   "source": [
    "Indexowanie"
   ]
  },
  {
   "cell_type": "code",
   "execution_count": 30,
   "metadata": {},
   "outputs": [
    {
     "data": {
      "text/plain": [
       "array([ 0,  1,  2,  3,  4,  5,  6,  7,  8,  9, 10])"
      ]
     },
     "execution_count": 30,
     "metadata": {},
     "output_type": "execute_result"
    }
   ],
   "source": [
    "array2 = arange(0,11)\n",
    "array2"
   ]
  },
  {
   "cell_type": "code",
   "execution_count": 31,
   "metadata": {},
   "outputs": [
    {
     "data": {
      "text/plain": [
       "8"
      ]
     },
     "execution_count": 31,
     "metadata": {},
     "output_type": "execute_result"
    }
   ],
   "source": [
    "array2[8]"
   ]
  },
  {
   "cell_type": "code",
   "execution_count": 32,
   "metadata": {},
   "outputs": [
    {
     "data": {
      "text/plain": [
       "array([1, 2, 3, 4])"
      ]
     },
     "execution_count": 32,
     "metadata": {},
     "output_type": "execute_result"
    }
   ],
   "source": [
    "array2[1:5]"
   ]
  },
  {
   "cell_type": "code",
   "execution_count": 33,
   "metadata": {},
   "outputs": [
    {
     "data": {
      "text/plain": [
       "array([100, 100, 100, 100, 100,   5,   6,   7,   8,   9,  10])"
      ]
     },
     "execution_count": 33,
     "metadata": {},
     "output_type": "execute_result"
    }
   ],
   "source": [
    "array2[0:5] = 100 # przydzielanie wartości\n",
    "array2"
   ]
  },
  {
   "cell_type": "code",
   "execution_count": 34,
   "metadata": {},
   "outputs": [
    {
     "data": {
      "text/plain": [
       "array([100, 100, 100, 100, 100,   5])"
      ]
     },
     "execution_count": 34,
     "metadata": {},
     "output_type": "execute_result"
    }
   ],
   "source": [
    "p_array2 = array2[0:6] # część macierzy (slice)\n",
    "p_array2"
   ]
  },
  {
   "cell_type": "code",
   "execution_count": 35,
   "metadata": {},
   "outputs": [
    {
     "data": {
      "text/plain": [
       "array([99, 99, 99, 99, 99, 99])"
      ]
     },
     "execution_count": 35,
     "metadata": {},
     "output_type": "execute_result"
    }
   ],
   "source": [
    "p_array2[:] = 99 # : odpowiada za odniesienie do wszystkich wartości w macierzy\n",
    "p_array2"
   ]
  },
  {
   "cell_type": "code",
   "execution_count": 36,
   "metadata": {},
   "outputs": [
    {
     "data": {
      "text/plain": [
       "array([99, 99, 99, 99, 99, 99,  6,  7,  8,  9, 10])"
      ]
     },
     "execution_count": 36,
     "metadata": {},
     "output_type": "execute_result"
    }
   ],
   "source": [
    "array2 "
   ]
  },
  {
   "cell_type": "code",
   "execution_count": 37,
   "metadata": {},
   "outputs": [
    {
     "name": "stdout",
     "output_type": "stream",
     "text": [
      "[11 11 11 11 11 11]\n",
      "[99 99 99 99 99 99  6  7  8  9 10]\n"
     ]
    }
   ],
   "source": [
    "c_array2 = array2[0:6].copy()\n",
    "c_array2[:] = 11\n",
    "print c_array2\n",
    "print array2"
   ]
  },
  {
   "cell_type": "markdown",
   "metadata": {},
   "source": [
    "Macierze dwuwymiarowe"
   ]
  },
  {
   "cell_type": "code",
   "execution_count": 38,
   "metadata": {},
   "outputs": [],
   "source": [
    "array3 = array([[5,10,15],[20,25,30],[35,40,45]])"
   ]
  },
  {
   "cell_type": "code",
   "execution_count": 39,
   "metadata": {
    "scrolled": true
   },
   "outputs": [
    {
     "name": "stdout",
     "output_type": "stream",
     "text": [
      "Cała macierz\n",
      "[[ 5 10 15]\n",
      " [20 25 30]\n",
      " [35 40 45]]\n",
      "Pierwszy wiersz\n",
      "[ 5 10 15]\n",
      "Pierwszy element\n",
      "5\n",
      "Inna składnia dla tego samego\n",
      "5\n"
     ]
    }
   ],
   "source": [
    "print \"Cała macierz\"\n",
    "print(array3) # zobacz macierz\n",
    "print \"Pierwszy wiersz\"\n",
    "print array3[0] # zobacze pierwszy wiersz\n",
    "print \"Pierwszy element\"\n",
    "print array3[0,0] # zobacz pierwrszy element\n",
    "print \"Inna składnia dla tego samego\"\n",
    "print array3[0][0]"
   ]
  },
  {
   "cell_type": "code",
   "execution_count": 40,
   "metadata": {},
   "outputs": [
    {
     "name": "stdout",
     "output_type": "stream",
     "text": [
      "Część macierzy\n",
      "[[10 15]\n",
      " [25 30]]\n"
     ]
    }
   ],
   "source": [
    "print \"Część macierzy\"\n",
    "print array3[:2,1:]"
   ]
  },
  {
   "cell_type": "code",
   "execution_count": 41,
   "metadata": {},
   "outputs": [
    {
     "name": "stdout",
     "output_type": "stream",
     "text": [
      "[[ 0.  0.  0.  0.  0.  0.  0.  0.  0.  0.]\n",
      " [ 0.  0.  0.  0.  0.  0.  0.  0.  0.  0.]\n",
      " [ 0.  0.  0.  0.  0.  0.  0.  0.  0.  0.]\n",
      " [ 0.  0.  0.  0.  0.  0.  0.  0.  0.  0.]\n",
      " [ 0.  0.  0.  0.  0.  0.  0.  0.  0.  0.]\n",
      " [ 0.  0.  0.  0.  0.  0.  0.  0.  0.  0.]\n",
      " [ 0.  0.  0.  0.  0.  0.  0.  0.  0.  0.]\n",
      " [ 0.  0.  0.  0.  0.  0.  0.  0.  0.  0.]\n",
      " [ 0.  0.  0.  0.  0.  0.  0.  0.  0.  0.]\n",
      " [ 0.  0.  0.  0.  0.  0.  0.  0.  0.  0.]]\n"
     ]
    }
   ],
   "source": [
    "array4 = zeros([10,10])\n",
    "print array4"
   ]
  },
  {
   "cell_type": "code",
   "execution_count": 42,
   "metadata": {},
   "outputs": [
    {
     "name": "stdout",
     "output_type": "stream",
     "text": [
      "10\n"
     ]
    }
   ],
   "source": [
    "length_array4 = array4.shape[1]\n",
    "print length_array4"
   ]
  },
  {
   "cell_type": "code",
   "execution_count": 43,
   "metadata": {},
   "outputs": [
    {
     "name": "stdout",
     "output_type": "stream",
     "text": [
      "10\n",
      "10\n"
     ]
    }
   ],
   "source": [
    "n,m = array4.shape\n",
    "print n\n",
    "print m"
   ]
  },
  {
   "cell_type": "code",
   "execution_count": 29,
   "metadata": {},
   "outputs": [
    {
     "name": "stdout",
     "output_type": "stream",
     "text": [
      "Pętla\n",
      "[[ 0.  0.  0.  0.  0.  0.  0.  0.  0.  0.]\n",
      " [ 1.  1.  1.  1.  1.  1.  1.  1.  1.  1.]\n",
      " [ 2.  2.  2.  2.  2.  2.  2.  2.  2.  2.]\n",
      " [ 3.  3.  3.  3.  3.  3.  3.  3.  3.  3.]\n",
      " [ 4.  4.  4.  4.  4.  4.  4.  4.  4.  4.]\n",
      " [ 5.  5.  5.  5.  5.  5.  5.  5.  5.  5.]\n",
      " [ 6.  6.  6.  6.  6.  6.  6.  6.  6.  6.]\n",
      " [ 7.  7.  7.  7.  7.  7.  7.  7.  7.  7.]\n",
      " [ 8.  8.  8.  8.  8.  8.  8.  8.  8.  8.]\n",
      " [ 9.  9.  9.  9.  9.  9.  9.  9.  9.  9.]]\n",
      "Pętla w pętli\n",
      "[[  0.   1.   2.   3.   4.   5.   6.   7.   8.   9.]\n",
      " [  1.   2.   3.   4.   5.   6.   7.   8.   9.  10.]\n",
      " [  2.   3.   4.   5.   6.   7.   8.   9.  10.  11.]\n",
      " [  3.   4.   5.   6.   7.   8.   9.  10.  11.  12.]\n",
      " [  4.   5.   6.   7.   8.   9.  10.  11.  12.  13.]\n",
      " [  5.   6.   7.   8.   9.  10.  11.  12.  13.  14.]\n",
      " [  6.   7.   8.   9.  10.  11.  12.  13.  14.  15.]\n",
      " [  7.   8.   9.  10.  11.  12.  13.  14.  15.  16.]\n",
      " [  8.   9.  10.  11.  12.  13.  14.  15.  16.  17.]\n",
      " [  9.  10.  11.  12.  13.  14.  15.  16.  17.  18.]]\n"
     ]
    }
   ],
   "source": [
    "print \"Pętla\"\n",
    "\n",
    "for i in range(length_array4):\n",
    "    array4[i]=i\n",
    "\n",
    "print array4\n",
    "\n",
    "print \"Pętla w pętli\"\n",
    "\n",
    "for i in range(array4.shape[0]):\n",
    "    for j in range(array4.shape[1]):\n",
    "        array4[i,j]=i+j\n",
    "        \n",
    "print array4"
   ]
  },
  {
   "cell_type": "code",
   "execution_count": 30,
   "metadata": {
    "scrolled": true
   },
   "outputs": [
    {
     "name": "stdout",
     "output_type": "stream",
     "text": [
      "Wybierz poszczególne indexy\n",
      "[[  6.   7.]\n",
      " [  4.   5.]\n",
      " [  8.   9.]\n",
      " [ 10.  11.]]\n"
     ]
    }
   ],
   "source": [
    "print \"Wybierz poszczególne indexy\"\n",
    "print array4[[4,2,6,8],2:4] # ZMIANA KOLEJNOŚCI WIERSZY"
   ]
  },
  {
   "cell_type": "markdown",
   "metadata": {},
   "source": [
    "### Zadania na indexy\n",
    "* Stwórz macierz 10 na 10 w środku 0 na zewnątrz 1 (2 linijki)\n",
    "* Stwórz macierz 8 na 8 wypełniając ją naprzemiennie 1 i 0 (szachownica)"
   ]
  },
  {
   "cell_type": "markdown",
   "metadata": {},
   "source": [
    "## Działania na macierzach 2D, transpozycja i inne operacje"
   ]
  },
  {
   "cell_type": "code",
   "execution_count": 31,
   "metadata": {},
   "outputs": [
    {
     "data": {
      "text/plain": [
       "array([[ 0,  1,  2,  3,  4],\n",
       "       [ 5,  6,  7,  8,  9],\n",
       "       [10, 11, 12, 13, 14],\n",
       "       [15, 16, 17, 18, 19],\n",
       "       [20, 21, 22, 23, 24],\n",
       "       [25, 26, 27, 28, 29],\n",
       "       [30, 31, 32, 33, 34],\n",
       "       [35, 36, 37, 38, 39],\n",
       "       [40, 41, 42, 43, 44],\n",
       "       [45, 46, 47, 48, 49]])"
      ]
     },
     "execution_count": 31,
     "metadata": {},
     "output_type": "execute_result"
    }
   ],
   "source": [
    "array5 = arange(50).reshape([10,5])\n",
    "array5"
   ]
  },
  {
   "cell_type": "code",
   "execution_count": 32,
   "metadata": {},
   "outputs": [
    {
     "data": {
      "text/plain": [
       "array([[ 0,  5, 10, 15, 20, 25, 30, 35, 40, 45],\n",
       "       [ 1,  6, 11, 16, 21, 26, 31, 36, 41, 46],\n",
       "       [ 2,  7, 12, 17, 22, 27, 32, 37, 42, 47],\n",
       "       [ 3,  8, 13, 18, 23, 28, 33, 38, 43, 48],\n",
       "       [ 4,  9, 14, 19, 24, 29, 34, 39, 44, 49]])"
      ]
     },
     "execution_count": 32,
     "metadata": {},
     "output_type": "execute_result"
    }
   ],
   "source": [
    "array5.T"
   ]
  },
  {
   "cell_type": "code",
   "execution_count": 33,
   "metadata": {},
   "outputs": [
    {
     "data": {
      "text/plain": [
       "array([[7125, 7350, 7575, 7800, 8025],\n",
       "       [7350, 7585, 7820, 8055, 8290],\n",
       "       [7575, 7820, 8065, 8310, 8555],\n",
       "       [7800, 8055, 8310, 8565, 8820],\n",
       "       [8025, 8290, 8555, 8820, 9085]])"
      ]
     },
     "execution_count": 33,
     "metadata": {},
     "output_type": "execute_result"
    }
   ],
   "source": [
    "dot(array5.T,array5)"
   ]
  },
  {
   "cell_type": "code",
   "execution_count": 34,
   "metadata": {},
   "outputs": [
    {
     "data": {
      "text/plain": [
       "array([[ -7.98349638e+10,  -9.03531772e+10,   4.62111669e+10,\n",
       "          4.97977053e+11,  -3.74000079e+11],\n",
       "       [  2.96183692e+14,  -1.85188608e+14,  -5.18370661e+14,\n",
       "          4.07572377e+14,  -1.96799796e+11],\n",
       "       [ -2.97404725e+14,   1.50978090e+14,   5.91016685e+14,\n",
       "         -4.45348741e+14,   7.58690801e+11],\n",
       "       [ -2.93422288e+14,   2.53971056e+14,   3.72893770e+14,\n",
       "         -3.34011556e+14,   5.69018100e+11],\n",
       "       [  2.94723155e+14,  -2.19670185e+14,  -4.45586004e+14,\n",
       "          3.71289943e+14,  -7.56909027e+11]])"
      ]
     },
     "execution_count": 34,
     "metadata": {},
     "output_type": "execute_result"
    }
   ],
   "source": [
    "linalg.inv(dot(array5.T,array5)*3) #Odwrotność macierzy"
   ]
  },
  {
   "cell_type": "markdown",
   "metadata": {},
   "source": [
    "## Macierz trójwymiarowa"
   ]
  },
  {
   "cell_type": "code",
   "execution_count": 35,
   "metadata": {},
   "outputs": [
    {
     "data": {
      "text/plain": [
       "array([[[ 0,  1],\n",
       "        [ 2,  3],\n",
       "        [ 4,  5],\n",
       "        [ 6,  7],\n",
       "        [ 8,  9]],\n",
       "\n",
       "       [[10, 11],\n",
       "        [12, 13],\n",
       "        [14, 15],\n",
       "        [16, 17],\n",
       "        [18, 19]],\n",
       "\n",
       "       [[20, 21],\n",
       "        [22, 23],\n",
       "        [24, 25],\n",
       "        [26, 27],\n",
       "        [28, 29]],\n",
       "\n",
       "       [[30, 31],\n",
       "        [32, 33],\n",
       "        [34, 35],\n",
       "        [36, 37],\n",
       "        [38, 39]],\n",
       "\n",
       "       [[40, 41],\n",
       "        [42, 43],\n",
       "        [44, 45],\n",
       "        [46, 47],\n",
       "        [48, 49]]])"
      ]
     },
     "execution_count": 35,
     "metadata": {},
     "output_type": "execute_result"
    }
   ],
   "source": [
    "array6 = arange(50).reshape([5,5,2])\n",
    "array6"
   ]
  },
  {
   "cell_type": "markdown",
   "metadata": {},
   "source": [
    "## Funkcje uniwersalne"
   ]
  },
  {
   "cell_type": "code",
   "execution_count": 36,
   "metadata": {},
   "outputs": [
    {
     "data": {
      "text/plain": [
       "array([[0, 1],\n",
       "       [2, 3],\n",
       "       [4, 5],\n",
       "       [6, 7],\n",
       "       [8, 9]])"
      ]
     },
     "execution_count": 36,
     "metadata": {},
     "output_type": "execute_result"
    }
   ],
   "source": [
    "array7 = arange(10).reshape([5,2])\n",
    "array7"
   ]
  },
  {
   "cell_type": "code",
   "execution_count": 37,
   "metadata": {},
   "outputs": [
    {
     "data": {
      "text/plain": [
       "array([[ 0.        ,  1.        ],\n",
       "       [ 1.41421356,  1.73205081],\n",
       "       [ 2.        ,  2.23606798],\n",
       "       [ 2.44948974,  2.64575131],\n",
       "       [ 2.82842712,  3.        ]])"
      ]
     },
     "execution_count": 37,
     "metadata": {},
     "output_type": "execute_result"
    }
   ],
   "source": [
    "sqrt(array7)"
   ]
  },
  {
   "cell_type": "code",
   "execution_count": 38,
   "metadata": {},
   "outputs": [
    {
     "data": {
      "text/plain": [
       "array([[  1.00000000e+00,   2.71828183e+00],\n",
       "       [  7.38905610e+00,   2.00855369e+01],\n",
       "       [  5.45981500e+01,   1.48413159e+02],\n",
       "       [  4.03428793e+02,   1.09663316e+03],\n",
       "       [  2.98095799e+03,   8.10308393e+03]])"
      ]
     },
     "execution_count": 38,
     "metadata": {},
     "output_type": "execute_result"
    }
   ],
   "source": [
    "exp(array7)"
   ]
  },
  {
   "cell_type": "code",
   "execution_count": 44,
   "metadata": {},
   "outputs": [
    {
     "name": "stdout",
     "output_type": "stream",
     "text": [
      "[ 0.20389891 -0.1010605  -0.12422649 -0.75614142  0.79756305  0.81694891\n",
      " -1.20282985  0.76898958 -0.07338382  0.87344917]\n",
      "[-2.58463389 -0.67218087 -1.11180024  2.41852141  0.21926388  1.17155217\n",
      "  0.46573061 -0.59404739 -0.67894751  0.15197181]\n"
     ]
    }
   ],
   "source": [
    "A = random.randn(10)\n",
    "print A\n",
    "B = random.randn(10)\n",
    "print B"
   ]
  },
  {
   "cell_type": "code",
   "execution_count": 45,
   "metadata": {},
   "outputs": [
    {
     "data": {
      "text/plain": [
       "array([-2.38073498, -0.77324138, -1.23602673,  1.66237998,  1.01682692,\n",
       "        1.98850107, -0.73709923,  0.17494219, -0.75233133,  1.02542097])"
      ]
     },
     "execution_count": 45,
     "metadata": {},
     "output_type": "execute_result"
    }
   ],
   "source": [
    "add(A,B)"
   ]
  },
  {
   "cell_type": "code",
   "execution_count": 46,
   "metadata": {},
   "outputs": [
    {
     "data": {
      "text/plain": [
       "array([-2.38073498, -0.77324138, -1.23602673,  1.66237998,  1.01682692,\n",
       "        1.98850107, -0.73709923,  0.17494219, -0.75233133,  1.02542097])"
      ]
     },
     "execution_count": 46,
     "metadata": {},
     "output_type": "execute_result"
    }
   ],
   "source": [
    "A+B # Otrzymamy to samo bo wie że pracuje na macierzach"
   ]
  },
  {
   "cell_type": "code",
   "execution_count": 47,
   "metadata": {},
   "outputs": [
    {
     "data": {
      "text/plain": [
       "array([ 0.20389891, -0.1010605 , -0.12422649,  2.41852141,  0.79756305,\n",
       "        1.17155217,  0.46573061,  0.76898958, -0.07338382,  0.87344917])"
      ]
     },
     "execution_count": 47,
     "metadata": {},
     "output_type": "execute_result"
    }
   ],
   "source": [
    "maximum(A,B)"
   ]
  },
  {
   "cell_type": "code",
   "execution_count": 49,
   "metadata": {},
   "outputs": [
    {
     "data": {
      "text/plain": [
       "-1.8521747604152496"
      ]
     },
     "execution_count": 49,
     "metadata": {},
     "output_type": "execute_result"
    }
   ],
   "source": [
    "dot(A,B)"
   ]
  },
  {
   "cell_type": "code",
   "execution_count": 50,
   "metadata": {
    "scrolled": true
   },
   "outputs": [
    {
     "data": {
      "text/plain": [
       "array([-0.52700403,  0.06793094,  0.13811504, -1.82874422,  0.17487677,\n",
       "        0.95709826, -0.56019468, -0.45681625,  0.04982376,  0.13273965])"
      ]
     },
     "execution_count": 50,
     "metadata": {},
     "output_type": "execute_result"
    }
   ],
   "source": [
    "A*B"
   ]
  },
  {
   "cell_type": "code",
   "execution_count": 51,
   "metadata": {},
   "outputs": [
    {
     "data": {
      "text/plain": [
       "array([-0.52700403,  0.06793094,  0.13811504, -1.82874422,  0.17487677,\n",
       "        0.95709826, -0.56019468, -0.45681625,  0.04982376,  0.13273965])"
      ]
     },
     "execution_count": 51,
     "metadata": {},
     "output_type": "execute_result"
    }
   ],
   "source": [
    "multiply(A,B)"
   ]
  },
  {
   "cell_type": "markdown",
   "metadata": {},
   "source": [
    "Inne funkcje dla poszczególnych elementów (https://docs.scipy.org/doc/numpy-1.15.1/reference/ufuncs.html)"
   ]
  },
  {
   "cell_type": "code",
   "execution_count": 79,
   "metadata": {},
   "outputs": [
    {
     "name": "stdout",
     "output_type": "stream",
     "text": [
      "[[0 1]\n",
      " [2 3]]\n",
      "[[2 3]\n",
      " [0 1]]\n"
     ]
    }
   ],
   "source": [
    "A = array([[0,1],[2,3]])\n",
    "print A\n",
    "B = array([[2,3],[0,1]])\n",
    "print B"
   ]
  },
  {
   "cell_type": "code",
   "execution_count": 46,
   "metadata": {},
   "outputs": [
    {
     "data": {
      "text/plain": [
       "array([[0, 1],\n",
       "       [4, 9]])"
      ]
     },
     "execution_count": 46,
     "metadata": {},
     "output_type": "execute_result"
    }
   ],
   "source": [
    "dot(A,B)"
   ]
  },
  {
   "cell_type": "code",
   "execution_count": 66,
   "metadata": {},
   "outputs": [
    {
     "name": "stdout",
     "output_type": "stream",
     "text": [
      "0.120320752537\n",
      "0.67853922559\n",
      "9\n"
     ]
    }
   ],
   "source": [
    "print A.mean() # średnia\n",
    "print A.std() # odchylene standardowe\n",
    "print A.argmax() # zwraca index maksymalnej wartości w macierzyb"
   ]
  },
  {
   "cell_type": "code",
   "execution_count": 76,
   "metadata": {},
   "outputs": [
    {
     "name": "stdout",
     "output_type": "stream",
     "text": [
      "Help on function mean in module numpy.core.fromnumeric:\n",
      "\n",
      "mean(a, axis=None, dtype=None, out=None, keepdims=<class numpy._globals._NoValue>)\n",
      "    Compute the arithmetic mean along the specified axis.\n",
      "    \n",
      "    Returns the average of the array elements.  The average is taken over\n",
      "    the flattened array by default, otherwise over the specified axis.\n",
      "    `float64` intermediate and return values are used for integer inputs.\n",
      "    \n",
      "    Parameters\n",
      "    ----------\n",
      "    a : array_like\n",
      "        Array containing numbers whose mean is desired. If `a` is not an\n",
      "        array, a conversion is attempted.\n",
      "    axis : None or int or tuple of ints, optional\n",
      "        Axis or axes along which the means are computed. The default is to\n",
      "        compute the mean of the flattened array.\n",
      "    \n",
      "        .. versionadded:: 1.7.0\n",
      "    \n",
      "        If this is a tuple of ints, a mean is performed over multiple axes,\n",
      "        instead of a single axis or all the axes as before.\n",
      "    dtype : data-type, optional\n",
      "        Type to use in computing the mean.  For integer inputs, the default\n",
      "        is `float64`; for floating point inputs, it is the same as the\n",
      "        input dtype.\n",
      "    out : ndarray, optional\n",
      "        Alternate output array in which to place the result.  The default\n",
      "        is ``None``; if provided, it must have the same shape as the\n",
      "        expected output, but the type will be cast if necessary.\n",
      "        See `doc.ufuncs` for details.\n",
      "    \n",
      "    keepdims : bool, optional\n",
      "        If this is set to True, the axes which are reduced are left\n",
      "        in the result as dimensions with size one. With this option,\n",
      "        the result will broadcast correctly against the input array.\n",
      "    \n",
      "        If the default value is passed, then `keepdims` will not be\n",
      "        passed through to the `mean` method of sub-classes of\n",
      "        `ndarray`, however any non-default value will be.  If the\n",
      "        sub-classes `sum` method does not implement `keepdims` any\n",
      "        exceptions will be raised.\n",
      "    \n",
      "    Returns\n",
      "    -------\n",
      "    m : ndarray, see dtype parameter above\n",
      "        If `out=None`, returns a new array containing the mean values,\n",
      "        otherwise a reference to the output array is returned.\n",
      "    \n",
      "    See Also\n",
      "    --------\n",
      "    average : Weighted average\n",
      "    std, var, nanmean, nanstd, nanvar\n",
      "    \n",
      "    Notes\n",
      "    -----\n",
      "    The arithmetic mean is the sum of the elements along the axis divided\n",
      "    by the number of elements.\n",
      "    \n",
      "    Note that for floating-point input, the mean is computed using the\n",
      "    same precision the input has.  Depending on the input data, this can\n",
      "    cause the results to be inaccurate, especially for `float32` (see\n",
      "    example below).  Specifying a higher-precision accumulator using the\n",
      "    `dtype` keyword can alleviate this issue.\n",
      "    \n",
      "    By default, `float16` results are computed using `float32` intermediates\n",
      "    for extra precision.\n",
      "    \n",
      "    Examples\n",
      "    --------\n",
      "    >>> a = np.array([[1, 2], [3, 4]])\n",
      "    >>> np.mean(a)\n",
      "    2.5\n",
      "    >>> np.mean(a, axis=0)\n",
      "    array([ 2.,  3.])\n",
      "    >>> np.mean(a, axis=1)\n",
      "    array([ 1.5,  3.5])\n",
      "    \n",
      "    In single precision, `mean` can be inaccurate:\n",
      "    \n",
      "    >>> a = np.zeros((2, 512*512), dtype=np.float32)\n",
      "    >>> a[0, :] = 1.0\n",
      "    >>> a[1, :] = 0.1\n",
      "    >>> np.mean(a)\n",
      "    0.54999924\n",
      "    \n",
      "    Computing the mean in float64 is more accurate:\n",
      "    \n",
      "    >>> np.mean(a, dtype=np.float64)\n",
      "    0.55000000074505806\n",
      "\n"
     ]
    }
   ],
   "source": [
    "help(np.mean)"
   ]
  },
  {
   "cell_type": "markdown",
   "metadata": {},
   "source": [
    "Parametry możemy również wyliczać na w odniesieniu do poszczególnych column lub wierszy (parametr axis)"
   ]
  },
  {
   "cell_type": "code",
   "execution_count": 87,
   "metadata": {},
   "outputs": [
    {
     "name": "stdout",
     "output_type": "stream",
     "text": [
      "[ 0.60376952  0.69724948  0.47754057  0.48107073  0.3171021 ]\n"
     ]
    }
   ],
   "source": [
    "A = np.random.rand(5,6)\n",
    "print A.mean(axis=1)"
   ]
  },
  {
   "cell_type": "code",
   "execution_count": 96,
   "metadata": {},
   "outputs": [
    {
     "data": {
      "text/plain": [
       "array([ 2.68990303,  3.40159714,  1.59921199,  1.83600706,  1.29669978])"
      ]
     },
     "execution_count": 96,
     "metadata": {},
     "output_type": "execute_result"
    }
   ],
   "source": [
    "np.diag(np.dot(A,A.T))\n",
    "np.sum(A*A, axis=1)"
   ]
  },
  {
   "cell_type": "code",
   "execution_count": 93,
   "metadata": {},
   "outputs": [
    {
     "name": "stdout",
     "output_type": "stream",
     "text": [
      "Metoda 1\n",
      "((0L, 0L), 0)\n",
      "((0L, 1L), 1)\n",
      "((0L, 2L), 2)\n",
      "((1L, 0L), 3)\n",
      "((1L, 1L), 4)\n",
      "((1L, 2L), 5)\n",
      "((2L, 0L), 6)\n",
      "((2L, 1L), 7)\n",
      "((2L, 2L), 8)\n",
      "Metoda 2\n",
      "((0, 0), 0)\n",
      "((0, 1), 1)\n",
      "((0, 2), 2)\n",
      "((1, 0), 3)\n",
      "((1, 1), 4)\n",
      "((1, 2), 5)\n",
      "((2, 0), 6)\n",
      "((2, 1), 7)\n",
      "((2, 2), 8)\n"
     ]
    }
   ],
   "source": [
    "Z = np.arange(9).reshape(3,3)\n",
    "print \"Metoda 1\"\n",
    "for index, value in np.ndenumerate(Z):\n",
    "    print(index, value)\n",
    "print \"Metoda 2\"\n",
    "for index in np.ndindex(Z.shape):\n",
    "    print(index, Z[index])"
   ]
  },
  {
   "cell_type": "markdown",
   "metadata": {},
   "source": [
    "### Zadania na macierzach\n",
    "* Stwórz losową macierz 5x5 i znormalizuj ją val = (val - val_min)/(val_max - val_min)\n",
    "* Stwórz losową macierz o rozmiarze 10x1 i posortuj ją\n",
    "* Stwórz losową macierz 10x2 zawierającą współrzędne kartezjańskie i zamień je na współrzedne biegunowe"
   ]
  },
  {
   "cell_type": "markdown",
   "metadata": {},
   "source": [
    "### Łączenie macierzy"
   ]
  },
  {
   "cell_type": "code",
   "execution_count": 118,
   "metadata": {},
   "outputs": [
    {
     "name": "stdout",
     "output_type": "stream",
     "text": [
      "(5L, 5L)\n",
      "(5L, 5L)\n",
      "(5L, 10L)\n",
      "(5L, 10L)\n",
      "(10L, 5L)\n",
      "(10L, 5L)\n"
     ]
    }
   ],
   "source": [
    "A = np.random.random((5,5))\n",
    "B = np.arange(25).reshape([5,5])\n",
    "print A.shape\n",
    "print B.shape\n",
    "\n",
    "print np.concatenate((A,B),axis=1).shape\n",
    "print np.hstack((A,B)).shape\n",
    "print np.concatenate((A,B),axis=0).shape\n",
    "print np.vstack((A,B)).shape"
   ]
  },
  {
   "cell_type": "markdown",
   "metadata": {},
   "source": [
    "### Przykład - wpasowanie funkcji liniowej w zbiór punktów metodą najmniejszych kwadratów\n",
    "---"
   ]
  },
  {
   "cell_type": "code",
   "execution_count": 122,
   "metadata": {},
   "outputs": [
    {
     "name": "stdout",
     "output_type": "stream",
     "text": [
      "[[ 0.   0. ]\n",
      " [ 1.   1. ]\n",
      " [ 2.   2. ]\n",
      " [ 3.   3. ]\n",
      " [ 4.   4. ]\n",
      " [ 2.3  1.1]\n",
      " [ 1.2  3.5]\n",
      " [ 3.1  0.2]]\n",
      "(8L, 2L)\n",
      "(8L,)\n",
      "[ 0.69169819  0.55821774]\n"
     ]
    }
   ],
   "source": [
    "import numpy as np\n",
    "from StringIO import StringIO\n",
    "\n",
    "data_str = '''0.0 0.0\n",
    "1.0 1.0\n",
    "2.0 2.0\n",
    "3.0 3.0\n",
    "4.0 4.0\n",
    "2.3 1.1\n",
    "1.2 3.5\n",
    "3.1 0.2\n",
    "'''\n",
    "\n",
    "data = np.genfromtxt(StringIO(data_str))\n",
    "\n",
    "print data\n",
    "\n",
    "size_data = len(data)\n",
    "\n",
    "A = np.hstack((np.ones([size_data,1]),data[:,0].reshape(-1,1)))     \n",
    "\n",
    "l = data[:,1]\n",
    "\n",
    "print A.shape\n",
    "print l.shape\n",
    "\n",
    "x = np.dot(np.linalg.inv(np.dot(A.T,A)),np.dot(A.T,l))\n",
    "\n",
    "print x"
   ]
  },
  {
   "cell_type": "markdown",
   "metadata": {},
   "source": [
    "### Tworzenie wykresów - podstawy"
   ]
  },
  {
   "cell_type": "markdown",
   "metadata": {},
   "source": [
    "![fig](https://i.stack.imgur.com/HZWkV.png)"
   ]
  },
  {
   "cell_type": "code",
   "execution_count": 123,
   "metadata": {},
   "outputs": [
    {
     "data": {
      "text/plain": [
       "[<matplotlib.lines.Line2D at 0x8cf4b00>]"
      ]
     },
     "execution_count": 123,
     "metadata": {},
     "output_type": "execute_result"
    },
    {
     "data": {
      "image/png": "[encoded data removed]",
      "text/plain": [
       "<matplotlib.figure.Figure at 0x8fe8b38>"
      ]
     },
     "metadata": {},
     "output_type": "display_data"
    }
   ],
   "source": [
    "from matplotlib import pyplot as plt\n",
    "%matplotlib inline\n",
    "\n",
    "fig, ax = plt.subplots()\n",
    "\n",
    "plt.scatter(data[:,0],data[:,1])\n",
    "arg = np.arange(0,5,1)\n",
    "val = [x[0]+x[1]*y for y in arg]\n",
    "                 \n",
    "plt.plot(arg,val)"
   ]
  },
  {
   "cell_type": "markdown",
   "metadata": {},
   "source": [
    "### Zadanie GI Elipsy błędów"
   ]
  },
  {
   "cell_type": "code",
   "execution_count": 194,
   "metadata": {},
   "outputs": [
    {
     "name": "stdout",
     "output_type": "stream",
     "text": [
      "md: 0.07900\n",
      "r: 0.01770\n",
      "Macierz A:\n",
      "[[   1.            0.            0.34202014 -187.93852416 -187.93852416]\n",
      " [   0.            1.            0.93969262   68.40402867   68.40402867]]\n",
      "[[ 0.00323006  0.00206777]\n",
      " [ 0.00206777  0.01041094]]\n",
      "[[  2.50000000e-03   6.19500000e-05   2.13454771e-03   0.00000000e+00\n",
      "    0.00000000e+00]\n",
      " [  6.19500000e-05   4.90000000e-03   5.86462165e-03   0.00000000e+00\n",
      "    0.00000000e+00]]\n",
      "Blad polozenia mp: 0.11679469166\n",
      "Kąt kierunkowy do elipsy błędu średniego:\n",
      "w stopniach:75.0309799907\n",
      "w radianach: 1.30953764184\n",
      "Parametry elipsy: 0.10 0.05 75.03\n"
     ]
    }
   ],
   "source": [
    "from math import *\n",
    "import numpy as np\n",
    "\n",
    "nr = 59\n",
    "\n",
    "A = radians(10)\n",
    "mA = radians(20/3600)\n",
    "\n",
    "alfa=radians(1) + radians(nr*1)\n",
    "malfa=radians(10/3600)\n",
    "\n",
    "d=200 \n",
    "md=0.020+nr*0.001\n",
    "\n",
    "mxs=0.05\n",
    "mys=0.07\n",
    "\n",
    "r=0.3*nr*0.001\n",
    "\n",
    "mxsys=r*mxs*mys\n",
    "\n",
    "print(\"md: {:.5f}\".format(md))\n",
    "print(\"r: {:.5f}\".format(r))\n",
    "\n",
    "Am=np.array([[1,0,cos(A+alfa),-d*sin(A+alfa),-d*sin(A+alfa)],[0,1,sin(A+alfa),d*cos(A+alfa),d*cos(A+alfa)]])\n",
    "C=np.array([[mxs**2,mxsys,0,0,0],[mxsys,mys**2,0,0,0],[0,0,md**2,0,0],[0,0,0,mA**2,0],[0,0,0,0,malfa**2]])\n",
    "\n",
    "print(\"Macierz A:\\n{}\".format(Am))\n",
    "#print(\"Macierz C:\\n{}\".format(C))\n",
    "\n",
    "F=np.dot(np.dot(Am,C),Am.T)\n",
    "print F\n",
    "\n",
    "print np.dot(Am,C)\n",
    "\n",
    "mxp= sqrt(F[0,0])\n",
    "myp= sqrt(F[1,1])\n",
    "mxpyp=F[0,1]\n",
    "\n",
    "mp=np.sqrt(mxp**2+myp**2)\n",
    "print(\"Blad polozenia mp: {}\".format(mp))\n",
    "\n",
    "alfa2 = ((atan2((2*mxpyp),(mxp**2-myp**2)))/2)\n",
    "\n",
    "print(\"Kąt kierunkowy do elipsy błędu średniego:\\nw stopniach:{}\\nw radianach: {}\".format(degrees(alfa2),alfa2))\n",
    "\n",
    "Ae=np.sqrt(mxp**2*(cos(alfa2))**2+mxpyp*sin(2*alfa2)+myp**2*(sin(alfa2))**2), np.sqrt(mxp**2*(sin(alfa2))**2-mxpyp*sin(2*alfa2)+myp**2*(cos(alfa2))**2)\n",
    "\n",
    "Ae = np.array(Ae)\n",
    "\n",
    "print(\"Parametry elipsy: {:.2f} {:.2f} {:.2f}\".format(Ae[0],Ae[1],degrees(alfa2)))\n",
    "\n",
    "Achi = [Ae*sqrt(chi2) for chi2 in [1,4.6052,5.9915,9.21]]\n",
    "\n",
    "Dkbsr = np.linspace(0,2*pi,100)\n",
    "\n",
    "ma = [sqrt(mxp**2 * cos(D)**2 + mxpyp * sin(2 * D) + myp**2 * sin(D)**2) for D in Dkbsr]\n",
    "Ykbs = [sin(D)*a for D,a in zip(Dkbsr,ma)]\n",
    "Xkbs = [cos(D)*a for D,a in zip(Dkbsr,ma)]"
   ]
  },
  {
   "cell_type": "code",
   "execution_count": 230,
   "metadata": {},
   "outputs": [
    {
     "data": {
      "text/plain": [
       "[<matplotlib.lines.Line2D at 0xc2d02b0>]"
      ]
     },
     "execution_count": 230,
     "metadata": {},
     "output_type": "execute_result"
    },
    {
     "data": {
      "image/png": "[encoded data removed]",
      "text/plain": [
       "<matplotlib.figure.Figure at 0xcce8550>"
      ]
     },
     "metadata": {},
     "output_type": "display_data"
    },
    {
     "data": {
      "image/png": "[encoded data removed]",
      "text/plain": [
       "<matplotlib.figure.Figure at 0xc2d0080>"
      ]
     },
     "metadata": {},
     "output_type": "display_data"
    }
   ],
   "source": [
    "import matplotlib.pyplot as plt\n",
    "\n",
    "f,a = plt.subplots()\n",
    "\n",
    "t = np.linspace(0,2*pi,1000);\n",
    "\n",
    "for Aplot,label in zip(Achi,['61%','90%','95%','99%']):\n",
    "    x = Aplot[0]*np.cos(t)*np.cos(alfa2)-Aplot[1]*np.sin(t)*np.sin(alfa2);\n",
    "    y = Aplot[0]*np.cos(t)*np.sin(alfa2)+Aplot[1]*np.sin(t)*np.cos(alfa2);\n",
    "    a.plot(y,x,label=label)\n",
    "\n",
    "a.grid(True)\n",
    "a.set_aspect('equal')\n",
    "a.set_ylim(a.get_xlim())\n",
    "\n",
    "a.axvline(0,color='k')\n",
    "a.axhline(0,color='k')\n",
    "\n",
    "f,a = plt.subplots()\n",
    "\n",
    "a.plot(Ykbs,Xkbs)\n"
   ]
  },
  {
   "cell_type": "markdown",
   "metadata": {},
   "source": [
    "https://math.stackexchange.com/questions/2645689/what-is-the-parametric-equation-of-a-rotated-ellipse-given-the-angle-of-rotatio?noredirect=1&lq=1"
   ]
  },
  {
   "cell_type": "code",
   "execution_count": null,
   "metadata": {},
   "outputs": [],
   "source": []
  }
 ],
 "metadata": {
  "kernelspec": {
   "display_name": "Python 2",
   "language": "python",
   "name": "python2"
  },
  "language_info": {
   "codemirror_mode": {
    "name": "ipython",
    "version": 2
   },
   "file_extension": ".py",
   "mimetype": "text/x-python",
   "name": "python",
   "nbconvert_exporter": "python",
   "pygments_lexer": "ipython2",
   "version": "2.7.14"
  }
 },
 "nbformat": 4,
 "nbformat_minor": 2
}
