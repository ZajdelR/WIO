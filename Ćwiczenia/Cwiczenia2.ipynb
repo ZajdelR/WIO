{
 "cells": [
  {
   "cell_type": "markdown",
   "metadata": {
    "slideshow": {
     "slide_type": "slide"
    }
   },
   "source": [
    "# Wprowadzenie do inżynierii oprogramowania\n",
    "\n",
    "## Ćwiczenia 2\n",
    "\n",
    "---\n",
    "\n",
    "* kontrola przepływu:\n",
    "    * instrukcje warunkowe *if*\n",
    "    * pętle *for* i *while*"
   ]
  },
  {
   "cell_type": "markdown",
   "metadata": {
    "slideshow": {
     "slide_type": "subslide"
    }
   },
   "source": [
    "## Składnia Pythona\n",
    "\n",
    "---\n",
    "\n",
    "* instrukcje blokowe wprowadza się za pomocą wcięć\n",
    "\n",
    "```cpp\n",
    "// przykład C++\n",
    "double bezpieczne_dzielenie (int a, int b)\n",
    "{\n",
    "    if (b != 0) return a / b;\n",
    "    else return 0;\n",
    "}\n",
    "```\n",
    "\n",
    "```py\n",
    "# przykład Python\n",
    "def bezpieczne_dzielenie (a, b):\n",
    "    if b != 0:\n",
    "        return a / b\n",
    "    else:\n",
    "        return 0\n",
    "```"
   ]
  },
  {
   "cell_type": "markdown",
   "metadata": {
    "slideshow": {
     "slide_type": "subslide"
    }
   },
   "source": [
    "## Wcięcia\n",
    "\n",
    "---\n",
    "\n",
    "* spacje (zalecane) lub tabulacje (odwieczna walka)\n",
    "* w Pythonie 3 nie wolno mieszać (w Pythonie 2 się nie zaleca)\n",
    "* najczęściej wcięce = 4 spacje (czytelność)\n",
    "* wiele edytorów umożliwia zamianę *tab* na spacje"
   ]
  },
  {
   "cell_type": "markdown",
   "metadata": {
    "slideshow": {
     "slide_type": "subslide"
    }
   },
   "source": [
    "## Instrukcja warunkowa *if elif else*\n",
    "\n",
    "--- \n",
    "\n",
    "* wykonaj jeśli, lub wykonaj jeśli, ..., lub wykonaj\n",
    "\n",
    "```py\n",
    "if warunek1:\n",
    "    instrukcja1\n",
    "    instrukcja2\n",
    "    ...\n",
    "elif warunek2:\n",
    "    instrukcja3\n",
    "    instrukcja4\n",
    "    ...\n",
    ".\n",
    ".\n",
    ".\n",
    "else:\n",
    "    instrukcja5\n",
    "    instrukcja6\n",
    "```"
   ]
  },
  {
   "cell_type": "code",
   "execution_count": null,
   "metadata": {
    "slideshow": {
     "slide_type": "-"
    }
   },
   "outputs": [],
   "source": [
    "if x > 3:\n",
    "    print(\"{} jest większe od 3\".format(x))\n",
    "elif x == 3:\n",
    "    print(\"{} jest równe 3\".format(x))\n",
    "else:\n",
    "    print(\"{} jest mniejsze od 3\".format(x))"
   ]
  },
  {
   "cell_type": "markdown",
   "metadata": {
    "slideshow": {
     "slide_type": "subslide"
    }
   },
   "source": [
    "## *if* - przykład\n",
    "\n",
    "---"
   ]
  },
  {
   "cell_type": "code",
   "execution_count": 3,
   "metadata": {
    "slideshow": {
     "slide_type": "-"
    }
   },
   "outputs": [
    {
     "name": "stdout",
     "output_type": "stream",
     "text": [
      "Podaj liczbę:\n",
      "5\n",
      "Podana liczba jest nieparzysta.\n"
     ]
    }
   ],
   "source": [
    "print(\"Podaj liczbę:\")\n",
    "\n",
    "x = input() # pobierz stringa z wejścia standardowego\n",
    "\n",
    "# x % 2 zwraca resztę z dzielenia\n",
    "# każda wartość != 0 jest traktowana jako prawda\n",
    "if x % 2:\n",
    "    print(\"Podana liczba jest nieparzysta.\")\n",
    "else:\n",
    "    print(\"Podana liczba jest parzysta.\")"
   ]
  },
  {
   "cell_type": "markdown",
   "metadata": {
    "slideshow": {
     "slide_type": "slide"
    }
   },
   "source": [
    "## Pętla *for*\n",
    "\n",
    "---\n",
    "\n",
    "* pętla po sekwencji\n",
    "* np. w Pascalu pętla po (arytmetycznym) ciągu liczb\n",
    "* np. w C++ obie możliwości\n",
    "\n",
    "```cpp\n",
    "// przykład w C++\n",
    "for (unsigned int i = 0; i < N; i++)\n",
    "{\n",
    "    // wykonaj coś na i-tym elemencie\n",
    "}\n",
    "for (auto it = v.begin(); it != v.end(); ++it)\n",
    "{\n",
    "    // wykonaj coś na iteratorze it\n",
    "}\n",
    "```"
   ]
  },
  {
   "cell_type": "markdown",
   "metadata": {
    "slideshow": {
     "slide_type": "subslide"
    }
   },
   "source": [
    "## *for* po liście\n",
    "\n",
    "---"
   ]
  },
  {
   "cell_type": "code",
   "execution_count": null,
   "metadata": {
    "slideshow": {
     "slide_type": "-"
    }
   },
   "outputs": [],
   "source": [
    "lista = ['a', 'b', 'c', 'd']\n",
    "\n",
    "for element in lista: # pętla po liście, w każdym kroku\n",
    "    print(element)    # element zmienia swoją wartość"
   ]
  },
  {
   "cell_type": "code",
   "execution_count": null,
   "metadata": {
    "slideshow": {
     "slide_type": "-"
    }
   },
   "outputs": [],
   "source": [
    "lista = ['a', 'b', 'c', 'd']\n",
    "\n",
    "it = iter(lista)\n",
    "\n",
    "# pętla po iteratorze it\n",
    "# wewnątrz \"ręcznie\" wywołujemy next()\n",
    "for i in it:\n",
    "    print(\"i = \" + str(i))\n",
    "    print(\"next(it) = \" + str(next(it)))"
   ]
  },
  {
   "cell_type": "markdown",
   "metadata": {
    "slideshow": {
     "slide_type": "subslide"
    }
   },
   "source": [
    "## *for* po wycinkach\n",
    "\n",
    "---"
   ]
  },
  {
   "cell_type": "code",
   "execution_count": null,
   "metadata": {},
   "outputs": [],
   "source": [
    "lista = ['a', 'b', 'c', 'd']\n",
    "\n",
    "for element in lista[-2:]:\n",
    "    print(element)"
   ]
  },
  {
   "cell_type": "code",
   "execution_count": null,
   "metadata": {
    "slideshow": {
     "slide_type": "-"
    }
   },
   "outputs": [],
   "source": [
    "for i in range(10)[::2]:\n",
    "    print(i)"
   ]
  },
  {
   "cell_type": "markdown",
   "metadata": {
    "slideshow": {
     "slide_type": "subslide"
    }
   },
   "source": [
    "## *for* po krotce\n",
    "\n",
    "---"
   ]
  },
  {
   "cell_type": "code",
   "execution_count": null,
   "metadata": {
    "slideshow": {
     "slide_type": "-"
    }
   },
   "outputs": [],
   "source": [
    "krotka = ('a', 'b', 'c', 'd')\n",
    "\n",
    "for element in krotka: # pętla po krotce\n",
    "    print(element)     # działa jak po liście"
   ]
  },
  {
   "cell_type": "markdown",
   "metadata": {
    "slideshow": {
     "slide_type": "subslide"
    }
   },
   "source": [
    "## *for* po stringu\n",
    "\n",
    "---"
   ]
  },
  {
   "cell_type": "code",
   "execution_count": null,
   "metadata": {
    "slideshow": {
     "slide_type": "-"
    }
   },
   "outputs": [],
   "source": [
    "slowo = \"Python\"\n",
    "\n",
    "for litera in slowo: # pętla po stringu\n",
    "    print(litera)    # iteruje po literach"
   ]
  },
  {
   "cell_type": "markdown",
   "metadata": {
    "slideshow": {
     "slide_type": "subslide"
    }
   },
   "source": [
    "## *for* po range\n",
    "\n",
    "---"
   ]
  },
  {
   "cell_type": "code",
   "execution_count": 4,
   "metadata": {
    "slideshow": {
     "slide_type": "-"
    }
   },
   "outputs": [
    {
     "name": "stdout",
     "output_type": "stream",
     "text": [
      "0\n",
      "1\n",
      "2\n",
      "3\n",
      "4\n"
     ]
    }
   ],
   "source": [
    "for liczba in range(5): # pętla po range\n",
    "    print(liczba)       # \"odpowiednik\" for (i = 0; ...)"
   ]
  },
  {
   "cell_type": "markdown",
   "metadata": {
    "slideshow": {
     "slide_type": "slide"
    }
   },
   "source": [
    "## Kontrola przepływu - przykład 1\n",
    "\n",
    "---"
   ]
  },
  {
   "cell_type": "code",
   "execution_count": 5,
   "metadata": {
    "scrolled": true,
    "slideshow": {
     "slide_type": "-"
    }
   },
   "outputs": [
    {
     "name": "stdout",
     "output_type": "stream",
     "text": [
      "1\n",
      "2.0\n",
      "4\n",
      "1j\n"
     ]
    }
   ],
   "source": [
    "lista = [1, 2.0, 'Python', 4, 1j]\n",
    "\n",
    "for element in lista:\n",
    "    if type(element) is not str: # nie drukuj stringów\n",
    "        print(element) # zwróć uwage na wcięcia"
   ]
  },
  {
   "cell_type": "markdown",
   "metadata": {
    "slideshow": {
     "slide_type": "subslide"
    }
   },
   "source": [
    "## Kontrola przepływu - przykład 2\n",
    "\n",
    "---"
   ]
  },
  {
   "cell_type": "code",
   "execution_count": null,
   "metadata": {
    "slideshow": {
     "slide_type": "-"
    }
   },
   "outputs": [],
   "source": [
    "lista = [1, 2.0, 'Python', 4, 1j]\n",
    "\n",
    "for element in lista:\n",
    "    if type(element) is str:   # tylko dla stringów\n",
    "        for litera in element: # pętla po stringu\n",
    "            print(litera) # zwróć uwagę na wcięcia"
   ]
  },
  {
   "cell_type": "markdown",
   "metadata": {
    "slideshow": {
     "slide_type": "subslide"
    }
   },
   "source": [
    "## Kontrola przepływu - przykład 3\n",
    "\n",
    "---"
   ]
  },
  {
   "cell_type": "markdown",
   "metadata": {
    "slideshow": {
     "slide_type": "subslide"
    }
   },
   "source": [
    "## *enumerate*\n",
    "\n",
    "---"
   ]
  },
  {
   "cell_type": "code",
   "execution_count": 9,
   "metadata": {
    "slideshow": {
     "slide_type": "-"
    }
   },
   "outputs": [
    {
     "data": {
      "text/plain": [
       "[(0, 1), (1, 2.0), (2, 'Python'), (3, 4), (4, 1j)]"
      ]
     },
     "execution_count": 9,
     "metadata": {},
     "output_type": "execute_result"
    }
   ],
   "source": [
    "lista = [1, 2.0, 'Python', 4, 1j]\n",
    "\n",
    "list(enumerate(lista)) # tworzy pary (indeks, element)"
   ]
  },
  {
   "cell_type": "code",
   "execution_count": null,
   "metadata": {
    "slideshow": {
     "slide_type": "-"
    }
   },
   "outputs": [],
   "source": [
    "for index, element in enumerate(lista):\n",
    "    print(\"{}. {}\".format(str(index + 1),element))"
   ]
  },
  {
   "cell_type": "markdown",
   "metadata": {
    "slideshow": {
     "slide_type": "slide"
    }
   },
   "source": [
    "## Pętla *while*\n",
    "\n",
    "---\n",
    "\n",
    "* wykonuj blok instrukcji dopóki warunek jest spełniony\n",
    "\n",
    "```py\n",
    "while warunek:\n",
    "    instrukcje\n",
    "```\n",
    "\n",
    "* przykład:"
   ]
  },
  {
   "cell_type": "code",
   "execution_count": 16,
   "metadata": {
    "slideshow": {
     "slide_type": "-"
    }
   },
   "outputs": [
    {
     "name": "stdout",
     "output_type": "stream",
     "text": [
      "1\n",
      "2\n",
      "3\n",
      "4\n",
      "5\n"
     ]
    }
   ],
   "source": [
    "i = 0\n",
    "\n",
    "while i < 5: # wykonuj dopóki i < 5\n",
    "    i += 1   # bez tego mamy nieskończoną pętlę (to samo co i = i+1)\n",
    "    print(i)"
   ]
  },
  {
   "cell_type": "code",
   "execution_count": 14,
   "metadata": {},
   "outputs": [
    {
     "name": "stdout",
     "output_type": "stream",
     "text": [
      "['a', 'c', 'e']\n"
     ]
    }
   ],
   "source": [
    "lista_znakow = ['a','b','c','b','b','e']\n",
    "\n",
    "while 'b' in lista_znakow:\n",
    "    lista_znakow.remove('b')\n",
    "    \n",
    "print lista_znakow"
   ]
  },
  {
   "cell_type": "markdown",
   "metadata": {
    "slideshow": {
     "slide_type": "slide"
    }
   },
   "source": [
    "## Dodatkowe instrukcje sterujące\n",
    "\n",
    "---\n",
    "\n",
    "* *break* - przerwij pętlę\n",
    "* *continue* - przerwij obecną iterację\n",
    "* *pass* - nie rób nic\n",
    "* *else* - wykonuj jeśli pętla zakończyła się inaczej niż *break*"
   ]
  },
  {
   "cell_type": "markdown",
   "metadata": {
    "slideshow": {
     "slide_type": "subslide"
    }
   },
   "source": [
    "## *break*\n",
    "\n",
    "---"
   ]
  },
  {
   "cell_type": "code",
   "execution_count": 4,
   "metadata": {
    "slideshow": {
     "slide_type": "-"
    }
   },
   "outputs": [
    {
     "name": "stdout",
     "output_type": "stream",
     "text": [
      "0\n",
      "1\n",
      "2\n",
      "3\n",
      "4\n",
      "5\n",
      "6\n"
     ]
    }
   ],
   "source": [
    "for i in range(10): # drukuj liczby z range(10)\n",
    "    print(i)\n",
    "    if i > 5:       # przerwij pętlę jeśli i > 5\n",
    "        break"
   ]
  },
  {
   "cell_type": "code",
   "execution_count": 6,
   "metadata": {
    "slideshow": {
     "slide_type": "-"
    }
   },
   "outputs": [
    {
     "name": "stdout",
     "output_type": "stream",
     "text": [
      "0 1 2 3 4 5 6\n"
     ]
    }
   ],
   "source": [
    "i = 0\n",
    "\n",
    "while True:   # wykonuj w niekończoność\n",
    "    print(i),\n",
    "    if i > 5: # przerwij pętlę jeśli i > 5\n",
    "        break\n",
    "    i += 1    # bez tego byłaby nieskończona pętla zer "
   ]
  },
  {
   "cell_type": "markdown",
   "metadata": {
    "slideshow": {
     "slide_type": "subslide"
    }
   },
   "source": [
    "## *continue*\n",
    "\n",
    "---"
   ]
  },
  {
   "cell_type": "code",
   "execution_count": 8,
   "metadata": {
    "slideshow": {
     "slide_type": "-"
    }
   },
   "outputs": [
    {
     "name": "stdout",
     "output_type": "stream",
     "text": [
      "0 2 4 6 8\n"
     ]
    }
   ],
   "source": [
    "for i in range(10):\n",
    "    if i % 2:    # jeśli i jest nieparzyste\n",
    "        continue # pomiń\n",
    "    print(i),"
   ]
  },
  {
   "cell_type": "markdown",
   "metadata": {
    "slideshow": {
     "slide_type": "-"
    }
   },
   "source": [
    "* znowu uwaga na nieskończone *while*\n",
    "\n",
    "```py\n",
    "i = 0\n",
    "\n",
    "# pętla wydrukuje 0 i utknie na 1\n",
    "while i < 10: \n",
    "    if i % 2:\n",
    "        continue\n",
    "    print(i, end=' ')\n",
    "    i += 1\n",
    "```"
   ]
  },
  {
   "cell_type": "markdown",
   "metadata": {
    "slideshow": {
     "slide_type": "subslide"
    }
   },
   "source": [
    "## *pass*\n",
    "\n",
    "---"
   ]
  },
  {
   "cell_type": "code",
   "execution_count": 9,
   "metadata": {
    "slideshow": {
     "slide_type": "-"
    }
   },
   "outputs": [
    {
     "name": "stdout",
     "output_type": "stream",
     "text": [
      "0\n",
      "2\n",
      "4\n",
      "6\n",
      "8\n"
     ]
    }
   ],
   "source": [
    "for i in range(10):\n",
    "    if i % 2:    # jeśli i jest nieparzyste\n",
    "        pass     # nie rób nic\n",
    "    else:        # w innej sytuacji drukuj\n",
    "        print(i)"
   ]
  },
  {
   "cell_type": "code",
   "execution_count": 10,
   "metadata": {
    "slideshow": {
     "slide_type": "-"
    }
   },
   "outputs": [
    {
     "name": "stdout",
     "output_type": "stream",
     "text": [
      "0\n",
      "2\n",
      "4\n",
      "6\n",
      "8\n"
     ]
    }
   ],
   "source": [
    "i = 0\n",
    "\n",
    "# w praktyce napisalibyśmy: if not i % 2: print...\n",
    "while i < 10:\n",
    "    if i % 2:\n",
    "        pass\n",
    "    else:\n",
    "        print(i)\n",
    "    i += 1"
   ]
  },
  {
   "cell_type": "markdown",
   "metadata": {
    "slideshow": {
     "slide_type": "subslide"
    }
   },
   "source": [
    "## *else*\n",
    "\n",
    "---"
   ]
  },
  {
   "cell_type": "code",
   "execution_count": 17,
   "metadata": {
    "slideshow": {
     "slide_type": "-"
    }
   },
   "outputs": [
    {
     "name": "stdout",
     "output_type": "stream",
     "text": [
      "0\n",
      "1\n",
      "2\n",
      "3\n",
      "4\n",
      "Koniec pętli.\n"
     ]
    }
   ],
   "source": [
    "for i in range(10):\n",
    "    if i < 5: # drukuj mniejsze od 5\n",
    "        print(i)\n",
    "    else:     # dla pozostałych nie rób nic\n",
    "        pass\n",
    "else: # wykonaj po zakończeniu pętli\n",
    "    print(\"Koniec pętli.\")"
   ]
  },
  {
   "cell_type": "code",
   "execution_count": 19,
   "metadata": {
    "slideshow": {
     "slide_type": "-"
    }
   },
   "outputs": [
    {
     "name": "stdout",
     "output_type": "stream",
     "text": [
      "0\n",
      "1\n",
      "2\n",
      "3\n",
      "4\n"
     ]
    }
   ],
   "source": [
    "for i in range(10):\n",
    "    if i < 5: # drukuj mniejsze od 5\n",
    "        print(i)\n",
    "    else:     # przerwij pętlę\n",
    "        break\n",
    "else: # pętla nie doszła do końca przez break\n",
    "    print(\"Koniec pętli.\")"
   ]
  }
 ],
 "metadata": {
  "anaconda-cloud": {},
  "celltoolbar": "Slideshow",
  "kernelspec": {
   "display_name": "Python 2",
   "language": "python",
   "name": "python2"
  },
  "language_info": {
   "codemirror_mode": {
    "name": "ipython",
    "version": 2
   },
   "file_extension": ".py",
   "mimetype": "text/x-python",
   "name": "python",
   "nbconvert_exporter": "python",
   "pygments_lexer": "ipython2",
   "version": "2.7.14"
  }
 },
 "nbformat": 4,
 "nbformat_minor": 1
}
